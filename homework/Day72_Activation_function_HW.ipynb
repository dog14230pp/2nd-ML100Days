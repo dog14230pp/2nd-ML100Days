{
  "nbformat": 4,
  "nbformat_minor": 0,
  "metadata": {
    "kernelspec": {
      "display_name": "Python 3",
      "language": "python",
      "name": "python3"
    },
    "language_info": {
      "codemirror_mode": {
        "name": "ipython",
        "version": 3
      },
      "file_extension": ".py",
      "mimetype": "text/x-python",
      "name": "python",
      "nbconvert_exporter": "python",
      "pygments_lexer": "ipython3",
      "version": "3.7.0"
    },
    "colab": {
      "name": "Day72-Activation_function_HW.ipynb",
      "provenance": [],
      "collapsed_sections": []
    }
  },
  "cells": [
    {
      "cell_type": "markdown",
      "metadata": {
        "id": "jmOhMdeNcusE",
        "colab_type": "text"
      },
      "source": [
        "# 作業目標:\n",
        "    寫出 ReLU & dReLU 一階導數\n",
        "    並列印\n"
      ]
    },
    {
      "cell_type": "markdown",
      "metadata": {
        "id": "WDafpNYdcusF",
        "colab_type": "text"
      },
      "source": [
        "# 作業重點\n",
        "\n",
        "# Rectified Linear Unit- Relu \n",
        "\n",
        "f(x)=max(0,x)\n"
      ]
    },
    {
      "cell_type": "code",
      "metadata": {
        "id": "bL1AIQ51cusG",
        "colab_type": "code",
        "colab": {
          "base_uri": "https://localhost:8080/",
          "height": 303
        },
        "outputId": "0a433093-66e8-4105-db63-2e70f1cd9830"
      },
      "source": [
        "import numpy as np\n",
        "from numpy import *\n",
        "import matplotlib.pylab as plt\n",
        "%matplotlib inline\n",
        "\n",
        "'''\n",
        "作業:\n",
        "    寫出 ReLU & dReLU 一階導數\n",
        "    並列印\n",
        "'''\n",
        "\n",
        "\n",
        "def Relu(x):\n",
        "  return abs(x) * (x > 0)\n",
        "\n",
        "# x >= 0時, x = 1\n",
        "def dRelu(x):\n",
        "  return (1 * (x > 0))\n",
        "\n",
        "x = plt.linspace(-10, 10, 100)\n",
        "\n",
        "\n",
        "plt.title('Relu', fontsize=20)\n",
        "\n",
        "plt.plot(x, Relu(x), 'r')\n",
        "plt.plot(x, dRelu(x), 'y')\n",
        "\n",
        "plt.text(5, 7, 'Relu', fontsize=12)\n",
        "plt.text(6, 1.5, 'dRelu', fontsize=12)"
      ],
      "execution_count": 3,
      "outputs": [
        {
          "output_type": "execute_result",
          "data": {
            "text/plain": [
              "Text(6, 1.5, 'dRelu')"
            ]
          },
          "metadata": {
            "tags": []
          },
          "execution_count": 3
        },
        {
          "output_type": "display_data",
          "data": {
            "image/png": "[encoded data removed]",
            "text/plain": [
              "<Figure size 432x288 with 1 Axes>"
            ]
          },
          "metadata": {
            "tags": []
          }
        }
      ]
    },
    {
      "cell_type": "code",
      "metadata": {
        "id": "60wUc_S9cusJ",
        "colab_type": "code",
        "colab": {}
      },
      "source": [
        ""
      ],
      "execution_count": 0,
      "outputs": []
    }
  ]
}