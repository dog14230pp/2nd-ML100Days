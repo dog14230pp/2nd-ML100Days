{
  "nbformat": 4,
  "nbformat_minor": 0,
  "metadata": {
    "colab": {
      "name": "Day_001_HW.ipynb",
      "version": "0.3.2",
      "provenance": []
    },
    "language_info": {
      "codemirror_mode": {
        "name": "ipython",
        "version": 3
      },
      "file_extension": ".py",
      "mimetype": "text/x-python",
      "name": "python",
      "nbconvert_exporter": "python",
      "pygments_lexer": "ipython3",
      "version": "3.7.3"
    },
    "kernelspec": {
      "display_name": "Python 3",
      "language": "python",
      "name": "python3"
    }
  },
  "cells": [
    {
      "metadata": {
        "id": "JUUcU9kvzAOI",
        "colab_type": "text"
      },
      "cell_type": "markdown",
      "source": [
        "# **作業1：**\n",
        "\n",
        "請上 Kaggle, 在 Competitions 或 Dataset 中找一組競賽或資料並寫下：\n",
        "\n",
        "https://www.kaggle.com/tsiaras/uk-road-safety-accidents-and-vehicles\n",
        "\n",
        "1.你選的這組資料為何重要\n",
        "Ans. \n",
        "企圖分析出事之地點時間等等與交通工具的關聯性，可以協助未來都市規劃者在規劃一地區時，透過深度學習做適當的分析後，做出對該地區如何防治交通事故的相對防範措施\n",
        "\n",
        "2.資料從何而來 (tips: 譬如提供者是誰、以什麼方式蒐集)\n",
        "\n",
        "Ans. \n",
        "Dave Fisher-Hickey for previously publishing  \n",
        "data.gov.uk for making this information publicly available\n",
        "\n",
        "3.蒐集而來的資料型態為何\n",
        "\n",
        "Ans. \n",
        "csv格式\n",
        "\n",
        "4.這組資料想解決的問題如何評估\n",
        "\n",
        "Ans.\n",
        "研究面: 可能可利用ROC曲線來判斷準確性高低 \n",
        "實際面: 透過未來實際規劃後是否能有效減少事故來評估"
      ]
    },
    {
      "metadata": {
        "id": "VCC_671_zha_",
        "colab_type": "text"
      },
      "cell_type": "markdown",
      "source": [
        "# **作業2：**\n",
        "\n",
        "想像你經營一個自由載客車隊，你希望能透過數據分析以提升業績，請你思考並描述你如何規劃整體的分析/解決方案：\n",
        "\n",
        "1.核心問題為何 (tips：如何定義 「提升業績 & 你的假設」)\n",
        "\n",
        "Ans. \n",
        "\n",
        "(1)哪裡載客率最高 && 哪時間載客率最高 \n",
        "\n",
        "(2)夜間/晨間派車數量能達到最佳利益\n",
        "\n",
        "\n",
        "2.資料從何而來 (tips：哪些資料可能會對你想問的問題產生影響 & 資料如何蒐集)\n",
        "\n",
        "Ans. \n",
        "\n",
        "(1)透過司機紀錄接送地點以及最後的收益 \n",
        "\n",
        "(2)公司記錄從派車到到達之時間間距\n",
        "\n",
        "(3)公司記錄每個時段出車數/收益等等\n",
        "\n",
        "(4)蒐集是否有相關活動(如跨年/國家考試)，而這些時段的載客率高低\n",
        "\n",
        "\n",
        "3.蒐集而來的資料型態為何\n",
        "\n",
        "Ans.\n",
        "\n",
        "csv\n",
        "\n",
        "4.你要回答的問題，其如何評估 (tips：你的假設如何驗證)\n",
        "\n",
        "Ans. \n",
        "\n",
        "直接採用分析結果，看是否有效增加收益"
      ]
    },
    {
      "metadata": {
        "id": "-SIYwpmHz0m4",
        "colab_type": "text"
      },
      "cell_type": "markdown",
      "source": [
        "# **作業3:**"
      ]
    },
    {
      "metadata": {
        "id": "uY_Jnn1By6dw",
        "colab_type": "code",
        "colab": {}
      },
      "cell_type": "code",
      "source": [
        "import numpy as np\n",
        "import matplotlib.pyplot as plt\n"
      ],
      "execution_count": 0,
      "outputs": []
    },
    {
      "metadata": {
        "id": "CZPR2Gg3y6dz",
        "colab_type": "code",
        "colab": {}
      },
      "cell_type": "code",
      "source": [
        "def mean_squared_error(y, yp):\n",
        "    mse = MSE = sum(pow((y - yp), 2)) / len(y)\n",
        "    return mse\n",
        "\n",
        "def mean_absolute_error(y, yp):\n",
        "    \"\"\"\n",
        "    計算 MAE\n",
        "    Args:\n",
        "        - y: 實際值\n",
        "        - yp: 預測值\n",
        "    Return:\n",
        "        - mae: MAE\n",
        "    \"\"\"\n",
        "    mae = MAE = sum(abs(y - yp)) / len(y)\n",
        "    return mae\n"
      ],
      "execution_count": 0,
      "outputs": []
    },
    {
      "metadata": {
        "id": "ZFcHdp-Zy6d1",
        "colab_type": "code",
        "colab": {
          "base_uri": "https://localhost:8080/",
          "height": 281
        },
        "outputId": "3e576e7c-3e71-471a-afb0-807435390bc1"
      },
      "cell_type": "code",
      "source": [
        "w = 3\n",
        "b = 0.5\n",
        "\n",
        "x_lin = np.linspace(0, 100, 101)\n",
        "\n",
        "y = (x_lin + np.random.randn(101) * 5) * w + b\n",
        "\n",
        "plt.plot(x_lin, y, 'b.', label = 'data points')\n",
        "plt.title(\"Assume we have data points\")\n",
        "plt.legend(loc = 2)\n",
        "plt.show()"
      ],
      "execution_count": 3,
      "outputs": [
        {
          "output_type": "display_data",
          "data": {
            "image/png": "[encoded data removed]",
            "text/plain": [
              "<Figure size 432x288 with 1 Axes>"
            ]
          },
          "metadata": {
            "tags": []
          }
        }
      ]
    },
    {
      "metadata": {
        "id": "BYo5BRF6y6d4",
        "colab_type": "code",
        "colab": {
          "base_uri": "https://localhost:8080/",
          "height": 281
        },
        "outputId": "5137f45d-0056-4f5a-9676-940b4fff419e"
      },
      "cell_type": "code",
      "source": [
        "y_hat = x_lin * w + b\n",
        "plt.plot(x_lin, y, 'b.', label = 'data')\n",
        "plt.plot(x_lin, y_hat, 'r-', label = 'prediction')\n",
        "plt.title(\"Assume we have data points (And the prediction)\")\n",
        "plt.legend(loc = 2)\n",
        "plt.show()"
      ],
      "execution_count": 4,
      "outputs": [
        {
          "output_type": "display_data",
          "data": {
            "image/png": "[encoded data removed]",
            "text/plain": [
              "<Figure size 432x288 with 1 Axes>"
            ]
          },
          "metadata": {
            "tags": []
          }
        }
      ]
    },
    {
      "metadata": {
        "id": "9VSRny71y6d8",
        "colab_type": "code",
        "colab": {
          "base_uri": "https://localhost:8080/",
          "height": 52
        },
        "outputId": "b436cb12-2a40-4766-fb7c-838a9ac6e9a5"
      },
      "cell_type": "code",
      "source": [
        "# 執行 Function, 確認有沒有正常執行\n",
        "MSE = mean_squared_error(y, y_hat)\n",
        "MAE = mean_absolute_error(y, y_hat)\n",
        "print(\"The Mean squared error is %.3f\" % (MSE))\n",
        "print(\"The Mean absolute error is %.3f\" % (MAE))"
      ],
      "execution_count": 5,
      "outputs": [
        {
          "output_type": "stream",
          "text": [
            "The Mean squared error is 235.675\n",
            "The Mean absolute error is 12.323\n"
          ],
          "name": "stdout"
        }
      ]
    },
    {
      "metadata": {
        "id": "T8bSKOFIy6d_",
        "colab_type": "code",
        "colab": {}
      },
      "cell_type": "code",
      "source": [
        ""
      ],
      "execution_count": 0,
      "outputs": []
    }
  ]
}