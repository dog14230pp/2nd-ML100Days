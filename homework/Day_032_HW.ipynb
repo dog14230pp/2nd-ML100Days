{
  "nbformat": 4,
  "nbformat_minor": 0,
  "metadata": {
    "kernelspec": {
      "display_name": "Python 3",
      "language": "python",
      "name": "python3"
    },
    "language_info": {
      "codemirror_mode": {
        "name": "ipython",
        "version": 3
      },
      "file_extension": ".py",
      "mimetype": "text/x-python",
      "name": "python",
      "nbconvert_exporter": "python",
      "pygments_lexer": "ipython3",
      "version": "3.6.3"
    },
    "colab": {
      "name": "Day_032_HW.ipynb",
      "provenance": [],
      "collapsed_sections": []
    }
  },
  "cells": [
    {
      "cell_type": "markdown",
      "metadata": {
        "id": "a3tluw5olx2G",
        "colab_type": "text"
      },
      "source": [
        "## 練習時間\n",
        "相信大家目前都能夠初步了解機器學習專案的流程及步驟，今天的作業希望大家能夠看看全球機器學習巨頭們在做的機器學習專案。以 google 為例，下圖是 Google 內部專案使用機器學習的數量，隨著時間進展，現在早已超過 2000 個專案在使用 ML。"
      ]
    },
    {
      "cell_type": "markdown",
      "metadata": {
        "id": "biwmuMlBlx2H",
        "colab_type": "text"
      },
      "source": [
        "![image](https://cdn-images-1.medium.com/max/800/1*U_L8qI8RmYS-MOBrYvXhSA.png)"
      ]
    },
    {
      "cell_type": "markdown",
      "metadata": {
        "id": "NP1za7Nwlx2I",
        "colab_type": "text"
      },
      "source": [
        "底下幫同學整理幾間知名企業的 blog 或機器學習網站 (自行搜尋也可)，請挑選一篇文章閱讀並試著回答\n",
        "1. 專案的目標？ (要解決什麼問題）\n",
        "2. 使用的技術是？ (只需知道名稱即可，例如：使用 CNN 卷積神經網路做影像分類)\n",
        "3. 資料來源？ "
      ]
    },
    {
      "cell_type": "markdown",
      "metadata": {
        "id": "I79zAsfvlx2J",
        "colab_type": "text"
      },
      "source": [
        "- [Google AI blog](https://ai.googleblog.com/)\n",
        "- [Facebook Research blog](https://research.fb.com/blog/)\n",
        "- [Apple machine learning journal](https://machinelearning.apple.com/)\n",
        "- [機器之心](https://www.jiqizhixin.com/)\n",
        "- [雷鋒網](http://www.leiphone.com/category/ai)"
      ]
    },
    {
      "cell_type": "markdown",
      "metadata": {
        "id": "zFT2OaUymh0T",
        "colab_type": "text"
      },
      "source": [
        "###1. 專案的目標？ (要解決什麼問題）\n",
        "####ans: 利用AI來產生一個仿真的詐欺案件，透過競爭機制來判斷真偽，來訓練出更強防詐欺能力的AI風險模型\n",
        "\n",
        "###2.使用的技術是？\n",
        "####ans: GAN(生成對抗網路)\n",
        "\n",
        "###3. 資料來源?\n",
        "####ans: https://www.ithome.com.tw/news/132109\n"
      ]
    },
    {
      "cell_type": "code",
      "metadata": {
        "id": "alqMYRENlx2K",
        "colab_type": "code",
        "colab": {}
      },
      "source": [
        ""
      ],
      "execution_count": 0,
      "outputs": []
    }
  ]
}