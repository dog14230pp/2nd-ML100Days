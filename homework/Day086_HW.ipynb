{
  "nbformat": 4,
  "nbformat_minor": 0,
  "metadata": {
    "kernelspec": {
      "name": "python3",
      "display_name": "Python 3"
    },
    "language_info": {
      "codemirror_mode": {
        "name": "ipython",
        "version": 3
      },
      "file_extension": ".py",
      "mimetype": "text/x-python",
      "name": "python",
      "nbconvert_exporter": "python",
      "pygments_lexer": "ipython3",
      "version": "3.6.5"
    },
    "colab": {
      "name": "Day086_HW.ipynb",
      "provenance": [],
      "collapsed_sections": []
    },
    "accelerator": "GPU"
  },
  "cells": [
    {
      "cell_type": "markdown",
      "metadata": {
        "id": "jPbteEZnE2N4",
        "colab_type": "text"
      },
      "source": [
        "## Work\n",
        "1. 試比較 save_best_only 與否的差異\n",
        "2. 請僅存入將 save_weights_only 設定為 True, 並嘗試 reset ipynb 並將模型與權重重新建回並預測 x_test"
      ]
    },
    {
      "cell_type": "code",
      "metadata": {
        "id": "DC1cFQBzE2N5",
        "colab_type": "code",
        "colab": {
          "base_uri": "https://localhost:8080/",
          "height": 35
        },
        "outputId": "59cf6374-1d96-48e7-c866-f90736f761a1"
      },
      "source": [
        "import os\n",
        "import keras\n",
        "\n",
        "# Disable GPU\n",
        "os.environ[\"CUDA_VISIBLE_DEVICES\"] = \"\""
      ],
      "execution_count": 1,
      "outputs": [
        {
          "output_type": "stream",
          "text": [
            "Using TensorFlow backend.\n"
          ],
          "name": "stderr"
        }
      ]
    },
    {
      "cell_type": "code",
      "metadata": {
        "id": "6Bj_ucqLE2N8",
        "colab_type": "code",
        "colab": {
          "base_uri": "https://localhost:8080/",
          "height": 54
        },
        "outputId": "0903df72-c18f-4ef2-905d-ddb80421d919"
      },
      "source": [
        "train, test = keras.datasets.cifar10.load_data()"
      ],
      "execution_count": 2,
      "outputs": [
        {
          "output_type": "stream",
          "text": [
            "Downloading data from https://www.cs.toronto.edu/~kriz/cifar-10-python.tar.gz\n",
            "170500096/170498071 [==============================] - 6s 0us/step\n"
          ],
          "name": "stdout"
        }
      ]
    },
    {
      "cell_type": "code",
      "metadata": {
        "id": "E3k2t-PyE2N_",
        "colab_type": "code",
        "colab": {}
      },
      "source": [
        "## 資料前處理\n",
        "def preproc_x(x, flatten=True):\n",
        "    x = x / 255.\n",
        "    if flatten:\n",
        "        x = x.reshape((len(x), -1))\n",
        "    return x\n",
        "\n",
        "def preproc_y(y, num_classes=10):\n",
        "    if y.shape[-1] == 1:\n",
        "        y = keras.utils.to_categorical(y, num_classes)\n",
        "    return y    "
      ],
      "execution_count": 0,
      "outputs": []
    },
    {
      "cell_type": "code",
      "metadata": {
        "id": "l-CPvBgDE2OB",
        "colab_type": "code",
        "colab": {}
      },
      "source": [
        "x_train, y_train = train\n",
        "x_test, y_test = test\n",
        "\n",
        "# Preproc the inputs\n",
        "x_train = preproc_x(x_train)\n",
        "x_test = preproc_x(x_test)\n",
        "\n",
        "# Preprc the outputs\n",
        "y_train = preproc_y(y_train)\n",
        "y_test = preproc_y(y_test)"
      ],
      "execution_count": 0,
      "outputs": []
    },
    {
      "cell_type": "code",
      "metadata": {
        "id": "vWa9EgIZE2OD",
        "colab_type": "code",
        "colab": {}
      },
      "source": [
        "\"\"\"Code Here\n",
        "建立你的神經網路\n",
        "\"\"\"\n",
        "def build_mlp(input_shape, output_dim = 10, neurons = [512, 256, 128, 64, 32, 16, 8]):\n",
        "    model = keras.models.Sequential()\n",
        "    for i, units in enumerate(neurons):\n",
        "      if i == 0:\n",
        "          model.add(keras.layers.Dense(units = units, activation = 'relu', name = \"hidden_layer\" + str(i), input_shape = input_shape))\n",
        "      else:\n",
        "          model.add(keras.layers.Dense(units = units, activation = 'relu', name = \"hidden_layer\" + str(i)))\n",
        "    model.add(keras.layers.Dense(units = output_dim, activation = 'softmax', name = \"output\"))\n",
        "    return model"
      ],
      "execution_count": 0,
      "outputs": []
    },
    {
      "cell_type": "code",
      "metadata": {
        "id": "TyimWybOE2OF",
        "colab_type": "code",
        "colab": {}
      },
      "source": [
        "LEARNING_RATE = 1e-3\n",
        "EPOCHS = 50\n",
        "BATCH_SIZE = 256"
      ],
      "execution_count": 0,
      "outputs": []
    },
    {
      "cell_type": "code",
      "metadata": {
        "id": "vLL3jradE2OH",
        "colab_type": "code",
        "colab": {
          "base_uri": "https://localhost:8080/",
          "height": 1000
        },
        "outputId": "024a79c0-f7bb-4567-fd8e-5f361c1542d5"
      },
      "source": [
        "# 載入 Callbacks\n",
        "\"\"\"Code Here\n",
        "設定 callbacks: Earlystop\n",
        "\"\"\"\n",
        "\n",
        "from keras.callbacks import EarlyStopping\n",
        "from keras.callbacks import ModelCheckpoint\n",
        "\n",
        "\n",
        "results = {}\n",
        "\"\"\"Code Here\n",
        "撰寫你的訓練流程並將結果用 dictionary 紀錄\n",
        "\"\"\"\n",
        "\n",
        "\n",
        "keras.backend.clear_session() # 把舊的 Graph 清掉\n",
        "model = build_mlp(input_shape=x_train.shape[1:])\n",
        "model.summary()\n",
        "optimizer = keras.optimizers.Adam(lr=LEARNING_RATE)\n",
        "model.compile(loss=\"categorical_crossentropy\", metrics=[\"accuracy\"], optimizer=optimizer)\n",
        "\n",
        "model.fit(x_train, y_train, \n",
        "          epochs=EPOCHS, \n",
        "          batch_size=BATCH_SIZE, \n",
        "          validation_data=(x_test, y_test), \n",
        "          callbacks=[EarlyStopping(monitor=\"val_loss\", patience=5, verbose=1), ModelCheckpoint(filepath=\"./tmp.h5\", monitor=\"val_loss\", save_best_only=True)],\n",
        "          shuffle=True)\n",
        "    \n",
        "# Collect results\n",
        "train_loss = model.history.history[\"loss\"]\n",
        "valid_loss = model.history.history[\"val_loss\"]\n",
        "train_acc = model.history.history[\"acc\"]\n",
        "valid_acc = model.history.history[\"val_acc\"]\n",
        "    \n",
        "exp_name_tag = \"try\" \n",
        "results[exp_name_tag] = {'train-loss': train_loss,\n",
        "                         'valid-loss': valid_loss,\n",
        "                         'train-acc': train_acc,\n",
        "                         'valid-acc': valid_acc}\n",
        "\n",
        "\n"
      ],
      "execution_count": 8,
      "outputs": [
        {
          "output_type": "stream",
          "text": [
            "WARNING:tensorflow:From /usr/local/lib/python3.6/dist-packages/keras/backend/tensorflow_backend.py:107: The name tf.reset_default_graph is deprecated. Please use tf.compat.v1.reset_default_graph instead.\n",
            "\n",
            "WARNING:tensorflow:From /usr/local/lib/python3.6/dist-packages/keras/backend/tensorflow_backend.py:111: The name tf.placeholder_with_default is deprecated. Please use tf.compat.v1.placeholder_with_default instead.\n",
            "\n",
            "WARNING:tensorflow:From /usr/local/lib/python3.6/dist-packages/keras/backend/tensorflow_backend.py:66: The name tf.get_default_graph is deprecated. Please use tf.compat.v1.get_default_graph instead.\n",
            "\n",
            "WARNING:tensorflow:From /usr/local/lib/python3.6/dist-packages/keras/backend/tensorflow_backend.py:541: The name tf.placeholder is deprecated. Please use tf.compat.v1.placeholder instead.\n",
            "\n",
            "WARNING:tensorflow:From /usr/local/lib/python3.6/dist-packages/keras/backend/tensorflow_backend.py:4432: The name tf.random_uniform is deprecated. Please use tf.random.uniform instead.\n",
            "\n",
            "Model: \"sequential_1\"\n",
            "_________________________________________________________________\n",
            "Layer (type)                 Output Shape              Param #   \n",
            "=================================================================\n",
            "hidden_layer0 (Dense)        (None, 512)               1573376   \n",
            "_________________________________________________________________\n",
            "hidden_layer1 (Dense)        (None, 256)               131328    \n",
            "_________________________________________________________________\n",
            "hidden_layer2 (Dense)        (None, 128)               32896     \n",
            "_________________________________________________________________\n",
            "hidden_layer3 (Dense)        (None, 64)                8256      \n",
            "_________________________________________________________________\n",
            "hidden_layer4 (Dense)        (None, 32)                2080      \n",
            "_________________________________________________________________\n",
            "hidden_layer5 (Dense)        (None, 16)                528       \n",
            "_________________________________________________________________\n",
            "hidden_layer6 (Dense)        (None, 8)                 136       \n",
            "_________________________________________________________________\n",
            "output (Dense)               (None, 10)                90        \n",
            "=================================================================\n",
            "Total params: 1,748,690\n",
            "Trainable params: 1,748,690\n",
            "Non-trainable params: 0\n",
            "_________________________________________________________________\n",
            "WARNING:tensorflow:From /usr/local/lib/python3.6/dist-packages/keras/optimizers.py:793: The name tf.train.Optimizer is deprecated. Please use tf.compat.v1.train.Optimizer instead.\n",
            "\n",
            "WARNING:tensorflow:From /usr/local/lib/python3.6/dist-packages/tensorflow/python/ops/math_grad.py:1250: add_dispatch_support.<locals>.wrapper (from tensorflow.python.ops.array_ops) is deprecated and will be removed in a future version.\n",
            "Instructions for updating:\n",
            "Use tf.where in 2.0, which has the same broadcast rule as np.where\n",
            "Train on 50000 samples, validate on 10000 samples\n",
            "Epoch 1/50\n",
            "50000/50000 [==============================] - 10s 203us/step - loss: 2.1776 - acc: 0.1596 - val_loss: 2.0923 - val_acc: 0.2020\n",
            "Epoch 2/50\n",
            "50000/50000 [==============================] - 10s 190us/step - loss: 2.0332 - acc: 0.2134 - val_loss: 1.9859 - val_acc: 0.2425\n",
            "Epoch 3/50\n",
            "50000/50000 [==============================] - 9s 187us/step - loss: 1.9061 - acc: 0.2667 - val_loss: 1.8350 - val_acc: 0.3171\n",
            "Epoch 4/50\n",
            "50000/50000 [==============================] - 9s 185us/step - loss: 1.8089 - acc: 0.3324 - val_loss: 1.8429 - val_acc: 0.3404\n",
            "Epoch 5/50\n",
            "50000/50000 [==============================] - 9s 184us/step - loss: 1.7423 - acc: 0.3685 - val_loss: 1.6911 - val_acc: 0.3887\n",
            "Epoch 6/50\n",
            "50000/50000 [==============================] - 9s 185us/step - loss: 1.6683 - acc: 0.3988 - val_loss: 1.6301 - val_acc: 0.4090\n",
            "Epoch 7/50\n",
            "50000/50000 [==============================] - 9s 187us/step - loss: 1.6121 - acc: 0.4201 - val_loss: 1.5874 - val_acc: 0.4369\n",
            "Epoch 8/50\n",
            "50000/50000 [==============================] - 9s 182us/step - loss: 1.5859 - acc: 0.4306 - val_loss: 1.5817 - val_acc: 0.4373\n",
            "Epoch 9/50\n",
            "50000/50000 [==============================] - 9s 179us/step - loss: 1.5327 - acc: 0.4500 - val_loss: 1.5586 - val_acc: 0.4476\n",
            "Epoch 10/50\n",
            "50000/50000 [==============================] - 9s 182us/step - loss: 1.5136 - acc: 0.4578 - val_loss: 1.5546 - val_acc: 0.4457\n",
            "Epoch 11/50\n",
            "50000/50000 [==============================] - 9s 182us/step - loss: 1.4888 - acc: 0.4683 - val_loss: 1.4976 - val_acc: 0.4680\n",
            "Epoch 12/50\n",
            "50000/50000 [==============================] - 9s 181us/step - loss: 1.4626 - acc: 0.4748 - val_loss: 1.5130 - val_acc: 0.4611\n",
            "Epoch 13/50\n",
            "50000/50000 [==============================] - 9s 181us/step - loss: 1.4306 - acc: 0.4883 - val_loss: 1.4828 - val_acc: 0.4693\n",
            "Epoch 14/50\n",
            "50000/50000 [==============================] - 9s 185us/step - loss: 1.4079 - acc: 0.4958 - val_loss: 1.4951 - val_acc: 0.4750\n",
            "Epoch 15/50\n",
            "50000/50000 [==============================] - 9s 183us/step - loss: 1.3912 - acc: 0.5043 - val_loss: 1.5326 - val_acc: 0.4691\n",
            "Epoch 16/50\n",
            "50000/50000 [==============================] - 9s 182us/step - loss: 1.3733 - acc: 0.5072 - val_loss: 1.4951 - val_acc: 0.4697\n",
            "Epoch 17/50\n",
            "50000/50000 [==============================] - 9s 182us/step - loss: 1.3536 - acc: 0.5157 - val_loss: 1.4514 - val_acc: 0.4952\n",
            "Epoch 18/50\n",
            "50000/50000 [==============================] - 9s 182us/step - loss: 1.3276 - acc: 0.5249 - val_loss: 1.4928 - val_acc: 0.4863\n",
            "Epoch 19/50\n",
            "50000/50000 [==============================] - 9s 183us/step - loss: 1.3033 - acc: 0.5333 - val_loss: 1.4536 - val_acc: 0.4917\n",
            "Epoch 20/50\n",
            "50000/50000 [==============================] - 9s 183us/step - loss: 1.2812 - acc: 0.5399 - val_loss: 1.4435 - val_acc: 0.5032\n",
            "Epoch 21/50\n",
            "50000/50000 [==============================] - 9s 185us/step - loss: 1.2666 - acc: 0.5452 - val_loss: 1.4476 - val_acc: 0.5006\n",
            "Epoch 22/50\n",
            "50000/50000 [==============================] - 9s 181us/step - loss: 1.2574 - acc: 0.5487 - val_loss: 1.4728 - val_acc: 0.4948\n",
            "Epoch 23/50\n",
            "50000/50000 [==============================] - 9s 187us/step - loss: 1.2353 - acc: 0.5557 - val_loss: 1.4537 - val_acc: 0.5033\n",
            "Epoch 24/50\n",
            "50000/50000 [==============================] - 9s 184us/step - loss: 1.2210 - acc: 0.5603 - val_loss: 1.4363 - val_acc: 0.5057\n",
            "Epoch 25/50\n",
            "50000/50000 [==============================] - 9s 186us/step - loss: 1.1945 - acc: 0.5728 - val_loss: 1.4460 - val_acc: 0.5023\n",
            "Epoch 26/50\n",
            "50000/50000 [==============================] - 9s 186us/step - loss: 1.1844 - acc: 0.5736 - val_loss: 1.4546 - val_acc: 0.5054\n",
            "Epoch 27/50\n",
            "50000/50000 [==============================] - 9s 185us/step - loss: 1.1644 - acc: 0.5808 - val_loss: 1.4918 - val_acc: 0.4998\n",
            "Epoch 28/50\n",
            "50000/50000 [==============================] - 9s 183us/step - loss: 1.1462 - acc: 0.5858 - val_loss: 1.4804 - val_acc: 0.5017\n",
            "Epoch 29/50\n",
            "50000/50000 [==============================] - 9s 183us/step - loss: 1.1337 - acc: 0.5896 - val_loss: 1.5219 - val_acc: 0.4965\n",
            "Epoch 00029: early stopping\n"
          ],
          "name": "stdout"
        }
      ]
    },
    {
      "cell_type": "code",
      "metadata": {
        "scrolled": true,
        "id": "hTfl80NqE2OJ",
        "colab_type": "code",
        "colab": {
          "base_uri": "https://localhost:8080/",
          "height": 54
        },
        "outputId": "67b901b4-dbae-4196-8767-559b133957a5"
      },
      "source": [
        "model = keras.models.load_model(\"./tmp.h5\")\n",
        "loss_loadback, acc_loadback = model.evaluate(x_test, y_test)\n",
        "print(acc_loadback)"
      ],
      "execution_count": 10,
      "outputs": [
        {
          "output_type": "stream",
          "text": [
            "10000/10000 [==============================] - 1s 95us/step\n",
            "0.5057\n"
          ],
          "name": "stdout"
        }
      ]
    },
    {
      "cell_type": "code",
      "metadata": {
        "id": "y6N2HsZ-FW4b",
        "colab_type": "code",
        "colab": {
          "base_uri": "https://localhost:8080/",
          "height": 763
        },
        "outputId": "e9a039a9-0e85-4587-e8eb-a63149826f14"
      },
      "source": [
        "import matplotlib.pyplot as plt\n",
        "%matplotlib inline\n",
        "color_bar = [\"r\", \"g\", \"b\", \"y\", \"m\", \"k\"]  \n",
        "\n",
        "plt.figure(figsize=(8,6))\n",
        "for i, cond in enumerate(results.keys()):\n",
        "    plt.plot(range(len(results[cond]['train-loss'])),results[cond]['train-loss'], '-', label=cond, color=color_bar[i])\n",
        "    plt.plot(range(len(results[cond]['valid-loss'])),results[cond]['valid-loss'], '--', label=cond, color=color_bar[i])\n",
        "plt.title(\"Loss\")\n",
        "plt.ylim([0, 5])\n",
        "plt.legend()\n",
        "plt.show()\n",
        "\n",
        "plt.figure(figsize=(8,6))\n",
        "for i, cond in enumerate(results.keys()):\n",
        "    plt.plot(range(len(results[cond]['train-acc'])),results[cond]['train-acc'], '-', label=cond, color=color_bar[i])\n",
        "    plt.plot(range(len(results[cond]['valid-acc'])),results[cond]['valid-acc'], '--', label=cond, color=color_bar[i])\n",
        "plt.title(\"Accuracy\")\n",
        "plt.legend()\n",
        "plt.show()"
      ],
      "execution_count": 11,
      "outputs": [
        {
          "output_type": "display_data",
          "data": {
            "image/png": "[encoded data removed]",
            "text/plain": [
              "<Figure size 576x432 with 1 Axes>"
            ]
          },
          "metadata": {
            "tags": []
          }
        },
        {
          "output_type": "display_data",
          "data": {
            "image/png": "[encoded data removed]",
            "text/plain": [
              "<Figure size 576x432 with 1 Axes>"
            ]
          },
          "metadata": {
            "tags": []
          }
        }
      ]
    }
  ]
}