{
 "cells": [
  {
   "cell_type": "markdown",
   "metadata": {},
   "source": [
    "## 練習時間"
   ]
  },
  {
   "cell_type": "markdown",
   "metadata": {},
   "source": [
    "請觀看台大電機李宏毅教授的影片。李教授會用非常淺顯易懂的方式介紹甚麼是機器學習。\n"
   ]
  },
  {
   "cell_type": "markdown",
   "metadata": {},
   "source": [
    "[youtube](https://www.youtube.com/watch?v=CXgbekl66jc)"
   ]
  },
  {
   "cell_type": "markdown",
   "metadata": {},
   "source": [
    "## 請找出一個你認為機器學習可以發光發熱的領域並闡述原因? "
   ]
  },
  {
   "cell_type": "markdown",
   "metadata": {},
   "source": [
    "機器學習在近幾年已經發展得相當好\n",
    "包含最近火紅的深度學習技術-GAN的誕生\n",
    "更是將學習與深度學習往更高層次做發展\n",
    "\n",
    "我目前認為\n",
    "機器學習可以朝向\"影片偽造偵測\"(我目前正在做的畢業專題)與\"惡意程式偵測\"等等資安技術來發展\n",
    "在惡意程式偵測部分\n",
    "前一陣子(2019.05)在系上的專題演講中邀請到清華大學資安所所長-孫教授來講授機器學習與資安的結合\n",
    "在孫教授的演講中提到\n",
    "他們實驗室正在研究利用機器學習的方法去偵測殭屍網路\n",
    "我覺得這是一個相當有趣的研究\n",
    "\n",
    "現今的生活我們完全脫離不了資安與深度學習(機器學習)\n",
    "舉例來說，假設未來自動車順利發展並量產\n",
    "那後續相對也會遭遇到資安問題\n",
    "若在此時能把資安利用機器學習的方式做防衛的話\n",
    "相信未來能提供更安全以及對人類更有幫助的系統。\n",
    "\n",
    "所以Security + ML 肯定是未來最好的方展~~"
   ]
  }
 ],
 "metadata": {
  "kernelspec": {
   "display_name": "Python 3",
   "language": "python",
   "name": "python3"
  },
  "language_info": {
   "codemirror_mode": {
    "name": "ipython",
    "version": 3
   },
   "file_extension": ".py",
   "mimetype": "text/x-python",
   "name": "python",
   "nbconvert_exporter": "python",
   "pygments_lexer": "ipython3",
   "version": "3.7.3"
  }
 },
 "nbformat": 4,
 "nbformat_minor": 2
}
