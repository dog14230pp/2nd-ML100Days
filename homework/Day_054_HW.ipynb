{
  "nbformat": 4,
  "nbformat_minor": 0,
  "metadata": {
    "kernelspec": {
      "display_name": "Python 3",
      "language": "python",
      "name": "python3"
    },
    "language_info": {
      "codemirror_mode": {
        "name": "ipython",
        "version": 3
      },
      "file_extension": ".py",
      "mimetype": "text/x-python",
      "name": "python",
      "nbconvert_exporter": "python",
      "pygments_lexer": "ipython3",
      "version": "3.7.0"
    },
    "colab": {
      "name": "Day_054_HW.ipynb",
      "provenance": [],
      "collapsed_sections": []
    }
  },
  "cells": [
    {
      "cell_type": "markdown",
      "metadata": {
        "id": "kyjBThP4S9Vv",
        "colab_type": "text"
      },
      "source": [
        "# 作業\n",
        "* 試著想想看, 非監督學習是否有可能使用評價函數 (Metric) 來鑑別好壞呢?  \n",
        "(Hint : 可以分為 \"有目標值\" 與 \"無目標值\" 兩個方向思考)"
      ]
    },
    {
      "cell_type": "markdown",
      "metadata": {
        "id": "o40PptvWTrs5",
        "colab_type": "text"
      },
      "source": [
        "Q: 試著想想看, 非監督學習是否有可能使用評價函數 (Metric) 來鑑別好壞呢?\n",
        "ans: 不行，因為分群沒有正確的答案，故無法使用評價函數"
      ]
    }
  ]
}