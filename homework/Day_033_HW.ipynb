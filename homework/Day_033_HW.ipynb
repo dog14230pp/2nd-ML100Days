{
  "nbformat": 4,
  "nbformat_minor": 0,
  "metadata": {
    "kernelspec": {
      "display_name": "Python 3",
      "language": "python",
      "name": "python3"
    },
    "language_info": {
      "codemirror_mode": {
        "name": "ipython",
        "version": 3
      },
      "file_extension": ".py",
      "mimetype": "text/x-python",
      "name": "python",
      "nbconvert_exporter": "python",
      "pygments_lexer": "ipython3",
      "version": "3.6.2"
    },
    "colab": {
      "name": "Day_033_HW.ipynb",
      "provenance": [],
      "collapsed_sections": []
    }
  },
  "cells": [
    {
      "cell_type": "markdown",
      "metadata": {
        "id": "uHeFwOG-pO2G",
        "colab_type": "text"
      },
      "source": [
        "## 練習時間"
      ]
    },
    {
      "cell_type": "markdown",
      "metadata": {
        "id": "HQeNV9m8pO2H",
        "colab_type": "text"
      },
      "source": [
        "請觀看李宏毅教授以神奇寶貝進化 CP 值預測的範例，解說何謂機器學習與過擬合。並回答以下問題"
      ]
    },
    {
      "cell_type": "markdown",
      "metadata": {
        "id": "_hYOWkJwpO2I",
        "colab_type": "text"
      },
      "source": [
        "[youtube](https://www.youtube.com/watch?v=fegAeph9UaA)"
      ]
    },
    {
      "cell_type": "markdown",
      "metadata": {
        "id": "TTJilicFpO2J",
        "colab_type": "text"
      },
      "source": [
        "### 1. 模型的泛化能力 (generalization) 是指什麼？ \n",
        "####ans: 當面對新的資料時，模型是否可以具有良好的能力來做預測，若可以，則泛化能力優，反之則不優。當然，如何訓練出一個泛化能力好的模型則是一個相當困難且重要的課題\n",
        "\n",
        "### 2. 分類問題與回歸問題分別可用的目標函數有哪些？\n",
        "####ans:分類問題: 交叉熵(cross-entropy), 回歸問題:均方誤差(MSE)和平均絕對值誤差(MAE)和均方根誤差(RMSE)\n",
        "####   "
      ]
    }
  ]
}