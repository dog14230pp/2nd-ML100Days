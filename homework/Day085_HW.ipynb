{
  "nbformat": 4,
  "nbformat_minor": 0,
  "metadata": {
    "kernelspec": {
      "name": "python3",
      "display_name": "Python 3"
    },
    "language_info": {
      "codemirror_mode": {
        "name": "ipython",
        "version": 3
      },
      "file_extension": ".py",
      "mimetype": "text/x-python",
      "name": "python",
      "nbconvert_exporter": "python",
      "pygments_lexer": "ipython3",
      "version": "3.6.5"
    },
    "colab": {
      "name": "Day085_HW.ipynb",
      "provenance": [],
      "collapsed_sections": []
    },
    "accelerator": "GPU"
  },
  "cells": [
    {
      "cell_type": "markdown",
      "metadata": {
        "id": "IIJ9iwEoArR4",
        "colab_type": "text"
      },
      "source": [
        "## Work\n",
        "1. 試改變 monitor \"Validation Accuracy\" 並比較結果\n",
        "2. 調整 earlystop 的等待次數至 10, 25 並比較結果"
      ]
    },
    {
      "cell_type": "code",
      "metadata": {
        "id": "x-Xl-1PTArR5",
        "colab_type": "code",
        "colab": {
          "base_uri": "https://localhost:8080/",
          "height": 34
        },
        "outputId": "252879fb-7597-48a4-a4a8-f859ba1a74bd"
      },
      "source": [
        "import os\n",
        "import keras\n",
        "import matplotlib.pyplot as plt\n",
        "%matplotlib inline\n",
        "\n",
        "\n",
        "# Disable GPU\n",
        "os.environ[\"CUDA_VISIBLE_DEVICES\"] = \"\""
      ],
      "execution_count": 1,
      "outputs": [
        {
          "output_type": "stream",
          "text": [
            "Using TensorFlow backend.\n"
          ],
          "name": "stderr"
        }
      ]
    },
    {
      "cell_type": "code",
      "metadata": {
        "id": "XnPHO9ECArR7",
        "colab_type": "code",
        "colab": {
          "base_uri": "https://localhost:8080/",
          "height": 51
        },
        "outputId": "6690df1d-d8ca-459f-bb7b-4c47148eb2e0"
      },
      "source": [
        "train, test = keras.datasets.cifar10.load_data()"
      ],
      "execution_count": 2,
      "outputs": [
        {
          "output_type": "stream",
          "text": [
            "Downloading data from https://www.cs.toronto.edu/~kriz/cifar-10-python.tar.gz\n",
            "170500096/170498071 [==============================] - 11s 0us/step\n"
          ],
          "name": "stdout"
        }
      ]
    },
    {
      "cell_type": "code",
      "metadata": {
        "id": "7c4w2IIwArR9",
        "colab_type": "code",
        "colab": {}
      },
      "source": [
        "## 資料前處理\n",
        "def preproc_x(x, flatten=True):\n",
        "    x = x / 255.\n",
        "    if flatten:\n",
        "        x = x.reshape((len(x), -1))\n",
        "    return x\n",
        "\n",
        "def preproc_y(y, num_classes=10):\n",
        "    if y.shape[-1] == 1:\n",
        "        y = keras.utils.to_categorical(y, num_classes)\n",
        "    return y    "
      ],
      "execution_count": 0,
      "outputs": []
    },
    {
      "cell_type": "code",
      "metadata": {
        "id": "ZFXGJBGbArR_",
        "colab_type": "code",
        "colab": {}
      },
      "source": [
        "x_train, y_train = train\n",
        "x_test, y_test = test\n",
        "\n",
        "# Preproc the inputs\n",
        "x_train = preproc_x(x_train)\n",
        "x_test = preproc_x(x_test)\n",
        "\n",
        "# Preprc the outputs\n",
        "y_train = preproc_y(y_train)\n",
        "y_test = preproc_y(y_test)"
      ],
      "execution_count": 0,
      "outputs": []
    },
    {
      "cell_type": "code",
      "metadata": {
        "id": "i2GtHoR8ArSB",
        "colab_type": "code",
        "colab": {}
      },
      "source": [
        "\"\"\"Code Here\n",
        "建立你的神經網路\n",
        "\"\"\"\n",
        "def build_mlp(input_shape, output_dim = 10, neurons = [512, 256, 128, 64, 32, 16, 8]):\n",
        "    model = keras.models.Sequential()\n",
        "    for i, units in enumerate(neurons):\n",
        "      if i == 0:\n",
        "          model.add(keras.layers.Dense(units = units, activation = 'relu', name = \"hidden_layer\" + str(i), input_shape = input_shape))\n",
        "      else:\n",
        "          model.add(keras.layers.Dense(units = units, activation = 'relu', name = \"hidden_layer\" + str(i)))\n",
        "    model.add(keras.layers.Dense(units = output_dim, activation = 'softmax', name = \"output\"))\n",
        "    return model"
      ],
      "execution_count": 0,
      "outputs": []
    },
    {
      "cell_type": "code",
      "metadata": {
        "id": "Jzh8z5z4ArSD",
        "colab_type": "code",
        "colab": {}
      },
      "source": [
        "LEARNING_RATE = 1e-3\n",
        "EPOCHS = 50\n",
        "BATCH_SIZE = 256\n",
        "EARLYSTOP = [10, 25]"
      ],
      "execution_count": 0,
      "outputs": []
    },
    {
      "cell_type": "code",
      "metadata": {
        "id": "V9qegppUArSF",
        "colab_type": "code",
        "colab": {
          "base_uri": "https://localhost:8080/",
          "height": 1000
        },
        "outputId": "8bc70222-ceb2-40d9-857b-83c6f2cb4c61"
      },
      "source": [
        "# 載入 Callbacks\n",
        "\"\"\"Code Here\n",
        "設定 callbacks: Earlystop\n",
        "\"\"\"\n",
        "\n",
        "from keras.callbacks import EarlyStopping\n",
        "\n",
        "\n",
        "results = {}\n",
        "\"\"\"Code Here\n",
        "撰寫你的訓練流程並將結果用 dictionary 紀錄\n",
        "\"\"\"\n",
        "\n",
        "for early in EARLYSTOP:\n",
        "    keras.backend.clear_session() # 把舊的 Graph 清掉\n",
        "    print(\"Experiment with earlystop = %.2f\" % (early))\n",
        "    model = build_mlp(input_shape=x_train.shape[1:])\n",
        "    model.summary()\n",
        "    optimizer = keras.optimizers.Adam(lr=LEARNING_RATE)\n",
        "    model.compile(loss=\"categorical_crossentropy\", metrics=[\"accuracy\"], optimizer=optimizer)\n",
        "\n",
        "    model.fit(x_train, y_train, \n",
        "              epochs=EPOCHS, \n",
        "              batch_size=BATCH_SIZE, \n",
        "              validation_data=(x_test, y_test), \n",
        "              callbacks=[EarlyStopping(monitor=\"val_loss\", \n",
        "                          patience=early, \n",
        "                          verbose=1\n",
        "                          )],\n",
        "              shuffle=True)\n",
        "    \n",
        "    # Collect results\n",
        "    train_loss = model.history.history[\"loss\"]\n",
        "    valid_loss = model.history.history[\"val_loss\"]\n",
        "    train_acc = model.history.history[\"acc\"]\n",
        "    valid_acc = model.history.history[\"val_acc\"]\n",
        "    \n",
        "    exp_name_tag = \"earlystop-%s\" % str(early)\n",
        "    results[exp_name_tag] = {'train-loss': train_loss,\n",
        "                             'valid-loss': valid_loss,\n",
        "                             'train-acc': train_acc,\n",
        "                             'valid-acc': valid_acc}\n",
        "\n",
        "\n"
      ],
      "execution_count": 10,
      "outputs": [
        {
          "output_type": "stream",
          "text": [
            "Experiment with earlystop = 10.00\n",
            "Model: \"sequential_1\"\n",
            "_________________________________________________________________\n",
            "Layer (type)                 Output Shape              Param #   \n",
            "=================================================================\n",
            "hidden_layer0 (Dense)        (None, 512)               1573376   \n",
            "_________________________________________________________________\n",
            "hidden_layer1 (Dense)        (None, 256)               131328    \n",
            "_________________________________________________________________\n",
            "hidden_layer2 (Dense)        (None, 128)               32896     \n",
            "_________________________________________________________________\n",
            "hidden_layer3 (Dense)        (None, 64)                8256      \n",
            "_________________________________________________________________\n",
            "hidden_layer4 (Dense)        (None, 32)                2080      \n",
            "_________________________________________________________________\n",
            "hidden_layer5 (Dense)        (None, 16)                528       \n",
            "_________________________________________________________________\n",
            "hidden_layer6 (Dense)        (None, 8)                 136       \n",
            "_________________________________________________________________\n",
            "output (Dense)               (None, 10)                90        \n",
            "=================================================================\n",
            "Total params: 1,748,690\n",
            "Trainable params: 1,748,690\n",
            "Non-trainable params: 0\n",
            "_________________________________________________________________\n",
            "Train on 50000 samples, validate on 10000 samples\n",
            "Epoch 1/50\n",
            "50000/50000 [==============================] - 13s 265us/step - loss: 2.1330 - acc: 0.1854 - val_loss: 2.0308 - val_acc: 0.2430\n",
            "Epoch 2/50\n",
            "50000/50000 [==============================] - 13s 259us/step - loss: 1.9474 - acc: 0.2775 - val_loss: 1.8628 - val_acc: 0.3133\n",
            "Epoch 3/50\n",
            "50000/50000 [==============================] - 13s 256us/step - loss: 1.8263 - acc: 0.3374 - val_loss: 1.7770 - val_acc: 0.3601\n",
            "Epoch 4/50\n",
            "50000/50000 [==============================] - 13s 257us/step - loss: 1.7348 - acc: 0.3743 - val_loss: 1.7246 - val_acc: 0.3766\n",
            "Epoch 5/50\n",
            "50000/50000 [==============================] - 13s 259us/step - loss: 1.6555 - acc: 0.4022 - val_loss: 1.6617 - val_acc: 0.4025\n",
            "Epoch 6/50\n",
            "50000/50000 [==============================] - 13s 258us/step - loss: 1.6007 - acc: 0.4249 - val_loss: 1.6021 - val_acc: 0.4300\n",
            "Epoch 7/50\n",
            "50000/50000 [==============================] - 13s 257us/step - loss: 1.5529 - acc: 0.4428 - val_loss: 1.6204 - val_acc: 0.4296\n",
            "Epoch 8/50\n",
            "50000/50000 [==============================] - 13s 259us/step - loss: 1.5218 - acc: 0.4533 - val_loss: 1.5306 - val_acc: 0.4477\n",
            "Epoch 9/50\n",
            "50000/50000 [==============================] - 13s 256us/step - loss: 1.4788 - acc: 0.4699 - val_loss: 1.5722 - val_acc: 0.4427\n",
            "Epoch 10/50\n",
            "50000/50000 [==============================] - 13s 258us/step - loss: 1.4577 - acc: 0.4799 - val_loss: 1.4785 - val_acc: 0.4718\n",
            "Epoch 11/50\n",
            "50000/50000 [==============================] - 13s 259us/step - loss: 1.4284 - acc: 0.4883 - val_loss: 1.5144 - val_acc: 0.4622\n",
            "Epoch 12/50\n",
            "50000/50000 [==============================] - 13s 258us/step - loss: 1.4057 - acc: 0.4966 - val_loss: 1.4696 - val_acc: 0.4710\n",
            "Epoch 13/50\n",
            "50000/50000 [==============================] - 13s 259us/step - loss: 1.3813 - acc: 0.5089 - val_loss: 1.4994 - val_acc: 0.4773\n",
            "Epoch 14/50\n",
            "50000/50000 [==============================] - 13s 256us/step - loss: 1.3630 - acc: 0.5114 - val_loss: 1.4532 - val_acc: 0.4868\n",
            "Epoch 15/50\n",
            "50000/50000 [==============================] - 13s 264us/step - loss: 1.3311 - acc: 0.5241 - val_loss: 1.4339 - val_acc: 0.4948\n",
            "Epoch 16/50\n",
            "50000/50000 [==============================] - 13s 265us/step - loss: 1.3098 - acc: 0.5327 - val_loss: 1.4508 - val_acc: 0.4894\n",
            "Epoch 17/50\n",
            "50000/50000 [==============================] - 13s 263us/step - loss: 1.2893 - acc: 0.5384 - val_loss: 1.4259 - val_acc: 0.5011\n",
            "Epoch 18/50\n",
            "50000/50000 [==============================] - 13s 262us/step - loss: 1.2676 - acc: 0.5460 - val_loss: 1.4423 - val_acc: 0.4916\n",
            "Epoch 19/50\n",
            "50000/50000 [==============================] - 13s 261us/step - loss: 1.2531 - acc: 0.5548 - val_loss: 1.4068 - val_acc: 0.5013\n",
            "Epoch 20/50\n",
            "50000/50000 [==============================] - 13s 263us/step - loss: 1.2282 - acc: 0.5618 - val_loss: 1.4174 - val_acc: 0.5023\n",
            "Epoch 21/50\n",
            "50000/50000 [==============================] - 13s 263us/step - loss: 1.2092 - acc: 0.5700 - val_loss: 1.4466 - val_acc: 0.5020\n",
            "Epoch 22/50\n",
            "50000/50000 [==============================] - 13s 264us/step - loss: 1.1927 - acc: 0.5734 - val_loss: 1.4281 - val_acc: 0.5014\n",
            "Epoch 23/50\n",
            "50000/50000 [==============================] - 13s 265us/step - loss: 1.1737 - acc: 0.5827 - val_loss: 1.3789 - val_acc: 0.5218\n",
            "Epoch 24/50\n",
            "50000/50000 [==============================] - 13s 265us/step - loss: 1.1461 - acc: 0.5907 - val_loss: 1.4233 - val_acc: 0.5081\n",
            "Epoch 25/50\n",
            "50000/50000 [==============================] - 13s 262us/step - loss: 1.1361 - acc: 0.5936 - val_loss: 1.4170 - val_acc: 0.5073\n",
            "Epoch 26/50\n",
            "50000/50000 [==============================] - 13s 262us/step - loss: 1.1167 - acc: 0.6003 - val_loss: 1.4317 - val_acc: 0.5115\n",
            "Epoch 27/50\n",
            "50000/50000 [==============================] - 13s 263us/step - loss: 1.0937 - acc: 0.6084 - val_loss: 1.4070 - val_acc: 0.5161\n",
            "Epoch 28/50\n",
            "50000/50000 [==============================] - 13s 263us/step - loss: 1.0785 - acc: 0.6125 - val_loss: 1.4635 - val_acc: 0.5048\n",
            "Epoch 29/50\n",
            "50000/50000 [==============================] - 13s 264us/step - loss: 1.0609 - acc: 0.6187 - val_loss: 1.4619 - val_acc: 0.5062\n",
            "Epoch 30/50\n",
            "50000/50000 [==============================] - 13s 265us/step - loss: 1.0558 - acc: 0.6207 - val_loss: 1.4137 - val_acc: 0.5204\n",
            "Epoch 31/50\n",
            "50000/50000 [==============================] - 13s 262us/step - loss: 1.0306 - acc: 0.6314 - val_loss: 1.4288 - val_acc: 0.5295\n",
            "Epoch 32/50\n",
            "50000/50000 [==============================] - 13s 261us/step - loss: 1.0168 - acc: 0.6337 - val_loss: 1.4415 - val_acc: 0.5217\n",
            "Epoch 33/50\n",
            "50000/50000 [==============================] - 13s 262us/step - loss: 0.9927 - acc: 0.6427 - val_loss: 1.4514 - val_acc: 0.5238\n",
            "Epoch 00033: early stopping\n",
            "Experiment with earlystop = 25.00\n",
            "Model: \"sequential_1\"\n",
            "_________________________________________________________________\n",
            "Layer (type)                 Output Shape              Param #   \n",
            "=================================================================\n",
            "hidden_layer0 (Dense)        (None, 512)               1573376   \n",
            "_________________________________________________________________\n",
            "hidden_layer1 (Dense)        (None, 256)               131328    \n",
            "_________________________________________________________________\n",
            "hidden_layer2 (Dense)        (None, 128)               32896     \n",
            "_________________________________________________________________\n",
            "hidden_layer3 (Dense)        (None, 64)                8256      \n",
            "_________________________________________________________________\n",
            "hidden_layer4 (Dense)        (None, 32)                2080      \n",
            "_________________________________________________________________\n",
            "hidden_layer5 (Dense)        (None, 16)                528       \n",
            "_________________________________________________________________\n",
            "hidden_layer6 (Dense)        (None, 8)                 136       \n",
            "_________________________________________________________________\n",
            "output (Dense)               (None, 10)                90        \n",
            "=================================================================\n",
            "Total params: 1,748,690\n",
            "Trainable params: 1,748,690\n",
            "Non-trainable params: 0\n",
            "_________________________________________________________________\n",
            "Train on 50000 samples, validate on 10000 samples\n",
            "Epoch 1/50\n",
            "50000/50000 [==============================] - 14s 272us/step - loss: 2.1569 - acc: 0.1899 - val_loss: 2.0253 - val_acc: 0.2479\n",
            "Epoch 2/50\n",
            "50000/50000 [==============================] - 13s 262us/step - loss: 1.9477 - acc: 0.2797 - val_loss: 1.8916 - val_acc: 0.2985\n",
            "Epoch 3/50\n",
            "50000/50000 [==============================] - 13s 266us/step - loss: 1.8397 - acc: 0.3287 - val_loss: 1.7933 - val_acc: 0.3531\n",
            "Epoch 4/50\n",
            "50000/50000 [==============================] - 13s 262us/step - loss: 1.7701 - acc: 0.3551 - val_loss: 1.7224 - val_acc: 0.3701\n",
            "Epoch 5/50\n",
            "50000/50000 [==============================] - 13s 262us/step - loss: 1.6950 - acc: 0.3896 - val_loss: 1.6496 - val_acc: 0.4133\n",
            "Epoch 6/50\n",
            "50000/50000 [==============================] - 13s 264us/step - loss: 1.6335 - acc: 0.4141 - val_loss: 1.6333 - val_acc: 0.4074\n",
            "Epoch 7/50\n",
            "50000/50000 [==============================] - 13s 264us/step - loss: 1.5792 - acc: 0.4358 - val_loss: 1.5770 - val_acc: 0.4352\n",
            "Epoch 8/50\n",
            "50000/50000 [==============================] - 13s 261us/step - loss: 1.5376 - acc: 0.4473 - val_loss: 1.5847 - val_acc: 0.4357\n",
            "Epoch 9/50\n",
            "50000/50000 [==============================] - 13s 260us/step - loss: 1.5074 - acc: 0.4607 - val_loss: 1.4993 - val_acc: 0.4640\n",
            "Epoch 10/50\n",
            "50000/50000 [==============================] - 13s 258us/step - loss: 1.4761 - acc: 0.4714 - val_loss: 1.4863 - val_acc: 0.4755\n",
            "Epoch 11/50\n",
            "50000/50000 [==============================] - 13s 258us/step - loss: 1.4404 - acc: 0.4822 - val_loss: 1.4610 - val_acc: 0.4844\n",
            "Epoch 12/50\n",
            "50000/50000 [==============================] - 13s 259us/step - loss: 1.4196 - acc: 0.4929 - val_loss: 1.4564 - val_acc: 0.4875\n",
            "Epoch 13/50\n",
            "50000/50000 [==============================] - 13s 259us/step - loss: 1.3974 - acc: 0.5009 - val_loss: 1.5132 - val_acc: 0.4710\n",
            "Epoch 14/50\n",
            "50000/50000 [==============================] - 13s 259us/step - loss: 1.3744 - acc: 0.5085 - val_loss: 1.4418 - val_acc: 0.4915\n",
            "Epoch 15/50\n",
            "50000/50000 [==============================] - 13s 258us/step - loss: 1.3451 - acc: 0.5210 - val_loss: 1.4703 - val_acc: 0.4859\n",
            "Epoch 16/50\n",
            "50000/50000 [==============================] - 13s 261us/step - loss: 1.3252 - acc: 0.5264 - val_loss: 1.4748 - val_acc: 0.4838\n",
            "Epoch 17/50\n",
            "50000/50000 [==============================] - 13s 259us/step - loss: 1.3035 - acc: 0.5343 - val_loss: 1.4713 - val_acc: 0.4853\n",
            "Epoch 18/50\n",
            "50000/50000 [==============================] - 13s 259us/step - loss: 1.2866 - acc: 0.5399 - val_loss: 1.4794 - val_acc: 0.4854\n",
            "Epoch 19/50\n",
            "50000/50000 [==============================] - 13s 261us/step - loss: 1.2662 - acc: 0.5479 - val_loss: 1.4426 - val_acc: 0.4908\n",
            "Epoch 20/50\n",
            "50000/50000 [==============================] - 13s 262us/step - loss: 1.2476 - acc: 0.5527 - val_loss: 1.4385 - val_acc: 0.4921\n",
            "Epoch 21/50\n",
            "50000/50000 [==============================] - 13s 262us/step - loss: 1.2197 - acc: 0.5648 - val_loss: 1.4573 - val_acc: 0.5005\n",
            "Epoch 22/50\n",
            "50000/50000 [==============================] - 13s 260us/step - loss: 1.2081 - acc: 0.5676 - val_loss: 1.4628 - val_acc: 0.5021\n",
            "Epoch 23/50\n",
            "50000/50000 [==============================] - 13s 263us/step - loss: 1.1795 - acc: 0.5786 - val_loss: 1.4055 - val_acc: 0.5127\n",
            "Epoch 24/50\n",
            "50000/50000 [==============================] - 13s 264us/step - loss: 1.1590 - acc: 0.5842 - val_loss: 1.4229 - val_acc: 0.5065\n",
            "Epoch 25/50\n",
            "50000/50000 [==============================] - 13s 262us/step - loss: 1.1527 - acc: 0.5874 - val_loss: 1.4111 - val_acc: 0.5125\n",
            "Epoch 26/50\n",
            "50000/50000 [==============================] - 13s 263us/step - loss: 1.1270 - acc: 0.5941 - val_loss: 1.4143 - val_acc: 0.5138\n",
            "Epoch 27/50\n",
            "50000/50000 [==============================] - 13s 265us/step - loss: 1.1043 - acc: 0.6050 - val_loss: 1.4168 - val_acc: 0.5157\n",
            "Epoch 28/50\n",
            "50000/50000 [==============================] - 13s 262us/step - loss: 1.0835 - acc: 0.6120 - val_loss: 1.4724 - val_acc: 0.5146\n",
            "Epoch 29/50\n",
            "50000/50000 [==============================] - 13s 267us/step - loss: 1.0823 - acc: 0.6122 - val_loss: 1.4713 - val_acc: 0.5087\n",
            "Epoch 30/50\n",
            "50000/50000 [==============================] - 13s 264us/step - loss: 1.0539 - acc: 0.6222 - val_loss: 1.4279 - val_acc: 0.5228\n",
            "Epoch 31/50\n",
            "50000/50000 [==============================] - 13s 261us/step - loss: 1.0298 - acc: 0.6314 - val_loss: 1.4515 - val_acc: 0.5214\n",
            "Epoch 32/50\n",
            "50000/50000 [==============================] - 13s 263us/step - loss: 1.0177 - acc: 0.6357 - val_loss: 1.5145 - val_acc: 0.5030\n",
            "Epoch 33/50\n",
            "50000/50000 [==============================] - 13s 262us/step - loss: 1.0023 - acc: 0.6408 - val_loss: 1.4967 - val_acc: 0.5164\n",
            "Epoch 34/50\n",
            "50000/50000 [==============================] - 13s 265us/step - loss: 0.9831 - acc: 0.6478 - val_loss: 1.4808 - val_acc: 0.5171\n",
            "Epoch 35/50\n",
            "50000/50000 [==============================] - 13s 263us/step - loss: 0.9677 - acc: 0.6529 - val_loss: 1.5187 - val_acc: 0.5160\n",
            "Epoch 36/50\n",
            "50000/50000 [==============================] - 13s 263us/step - loss: 0.9541 - acc: 0.6585 - val_loss: 1.4920 - val_acc: 0.5242\n",
            "Epoch 37/50\n",
            "50000/50000 [==============================] - 13s 263us/step - loss: 0.9315 - acc: 0.6668 - val_loss: 1.5148 - val_acc: 0.5160\n",
            "Epoch 38/50\n",
            "50000/50000 [==============================] - 13s 261us/step - loss: 0.9216 - acc: 0.6681 - val_loss: 1.5404 - val_acc: 0.5130\n",
            "Epoch 39/50\n",
            "50000/50000 [==============================] - 13s 261us/step - loss: 0.9077 - acc: 0.6724 - val_loss: 1.5520 - val_acc: 0.5141\n",
            "Epoch 40/50\n",
            "50000/50000 [==============================] - 13s 261us/step - loss: 0.8850 - acc: 0.6819 - val_loss: 1.6220 - val_acc: 0.5105\n",
            "Epoch 41/50\n",
            "50000/50000 [==============================] - 13s 263us/step - loss: 0.8722 - acc: 0.6854 - val_loss: 1.5813 - val_acc: 0.5226\n",
            "Epoch 42/50\n",
            "50000/50000 [==============================] - 13s 268us/step - loss: 0.8570 - acc: 0.6935 - val_loss: 1.6297 - val_acc: 0.5126\n",
            "Epoch 43/50\n",
            "50000/50000 [==============================] - 13s 264us/step - loss: 0.8542 - acc: 0.6925 - val_loss: 1.6240 - val_acc: 0.5142\n",
            "Epoch 44/50\n",
            "50000/50000 [==============================] - 13s 265us/step - loss: 0.8459 - acc: 0.6951 - val_loss: 1.6197 - val_acc: 0.5196\n",
            "Epoch 45/50\n",
            "50000/50000 [==============================] - 13s 263us/step - loss: 0.8262 - acc: 0.7037 - val_loss: 1.6268 - val_acc: 0.5098\n",
            "Epoch 46/50\n",
            "50000/50000 [==============================] - 13s 262us/step - loss: 0.8127 - acc: 0.7063 - val_loss: 1.7179 - val_acc: 0.5072\n",
            "Epoch 47/50\n",
            "50000/50000 [==============================] - 13s 264us/step - loss: 0.8051 - acc: 0.7100 - val_loss: 1.7115 - val_acc: 0.5120\n",
            "Epoch 48/50\n",
            "50000/50000 [==============================] - 13s 262us/step - loss: 0.7911 - acc: 0.7163 - val_loss: 1.6585 - val_acc: 0.5168\n",
            "Epoch 00048: early stopping\n"
          ],
          "name": "stdout"
        }
      ]
    },
    {
      "cell_type": "code",
      "metadata": {
        "id": "kNDdS2O7ArSG",
        "colab_type": "code",
        "colab": {
          "base_uri": "https://localhost:8080/",
          "height": 763
        },
        "outputId": "586df522-9284-4e4a-9e09-080a46f66132"
      },
      "source": [
        "import matplotlib.pyplot as plt\n",
        "%matplotlib inline\n",
        "color_bar = [\"r\", \"g\", \"b\", \"y\", \"m\", \"k\"]  \n",
        "\n",
        "plt.figure(figsize=(8,6))\n",
        "for i, cond in enumerate(results.keys()):\n",
        "    plt.plot(range(len(results[cond]['train-loss'])),results[cond]['train-loss'], '-', label=cond, color=color_bar[i])\n",
        "    plt.plot(range(len(results[cond]['valid-loss'])),results[cond]['valid-loss'], '--', label=cond, color=color_bar[i])\n",
        "plt.title(\"Loss\")\n",
        "plt.ylim([0, 5])\n",
        "plt.legend()\n",
        "plt.show()\n",
        "\n",
        "plt.figure(figsize=(8,6))\n",
        "for i, cond in enumerate(results.keys()):\n",
        "    plt.plot(range(len(results[cond]['train-acc'])),results[cond]['train-acc'], '-', label=cond, color=color_bar[i])\n",
        "    plt.plot(range(len(results[cond]['valid-acc'])),results[cond]['valid-acc'], '--', label=cond, color=color_bar[i])\n",
        "plt.title(\"Accuracy\")\n",
        "plt.legend()\n",
        "plt.show()"
      ],
      "execution_count": 11,
      "outputs": [
        {
          "output_type": "display_data",
          "data": {
            "image/png": "[encoded data removed]",
            "text/plain": [
              "<Figure size 576x432 with 1 Axes>"
            ]
          },
          "metadata": {
            "tags": []
          }
        },
        {
          "output_type": "display_data",
          "data": {
            "image/png": "[encoded data removed]",
            "text/plain": [
              "<Figure size 576x432 with 1 Axes>"
            ]
          },
          "metadata": {
            "tags": []
          }
        }
      ]
    }
  ]
}