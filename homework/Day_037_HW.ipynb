{
 "cells": [
  {
   "cell_type": "markdown",
   "metadata": {},
   "source": [
    "## [作業重點]\n",
    "了解線性回歸的模型發展歷程，並了解優勢與劣勢，以及其使用情境"
   ]
  },
  {
   "cell_type": "markdown",
   "metadata": {},
   "source": [
    "## 作業"
   ]
  },
  {
   "cell_type": "markdown",
   "metadata": {},
   "source": [
    "請閱讀以下相關文獻，並回答以下問題\n",
    "\n",
    "[Linear Regression 詳細介紹](https://brohrer.mcknote.com/zh-Hant/how_machine_learning_works/how_linear_regression_works.html)\n",
    "\n",
    "[Logistics Regression 詳細介紹](https://medium.com/@yehjames/%E8%B3%87%E6%96%99%E5%88%86%E6%9E%90-%E6%A9%9F%E5%99%A8%E5%AD%B8%E7%BF%92-%E7%AC%AC3-3%E8%AC%9B-%E7%B7%9A%E6%80%A7%E5%88%86%E9%A1%9E-%E9%82%8F%E8%BC%AF%E6%96%AF%E5%9B%9E%E6%AD%B8-logistic-regression-%E4%BB%8B%E7%B4%B9-a1a5f47017e5)\n"
   ]
  },
  {
   "cell_type": "markdown",
   "metadata": {},
   "source": [
    "1. 線性回歸模型能夠準確預測非線性關係的資料集嗎?\n",
    "2. 回歸模型是否對資料分布有基本假設?\n"
   ]
  },
  {
   "cell_type": "markdown",
   "metadata": {},
   "source": [
    "# 作業\n",
    "## 1.線性回歸模型能夠準確預測非線性關係的資料集嗎?\n",
    "顯然應該是不行。在例子中鑽石跟重量具有線性關係，故可以將點畫在二維座標上來觀察\n",
    "然而若非線性關係時，模型很難(或不易)去預估如何在這些資料中繪製出一條直線，尤其是在更高維的空間座標中(也就是有很多特徵的時候)\n",
    "這樣的情況下，或許只能做其他的回歸問題，而不能利用線性回歸來做準確之預測。\n",
    "\n",
    "## 2.回歸模型是否對資料分布有基本假設?\n",
    "參考資料: http://www.gotop.com.tw/epaper/e0719/AEM000900n.pdf\n",
    "1.線性關係: 應變數和自變數之間的關係必須是線性\n",
    "2.常態性(normality): 若是資料呈現常態分配 (normal distribution)，則誤差項也會呈現同樣的分配\n",
    "3.誤差項的獨立性: 誤差項與誤差項之間没有相互關係\n",
    "4.誤差項的變異數相等(Homoscedasticity): 自變數的誤差項除了需要呈現常態性分配外，其變量數也需要相等"
   ]
  }
 ],
 "metadata": {
  "kernelspec": {
   "display_name": "Python 3",
   "language": "python",
   "name": "python3"
  },
  "language_info": {
   "codemirror_mode": {
    "name": "ipython",
    "version": 3
   },
   "file_extension": ".py",
   "mimetype": "text/x-python",
   "name": "python",
   "nbconvert_exporter": "python",
   "pygments_lexer": "ipython3",
   "version": "3.7.3"
  }
 },
 "nbformat": 4,
 "nbformat_minor": 2
}
