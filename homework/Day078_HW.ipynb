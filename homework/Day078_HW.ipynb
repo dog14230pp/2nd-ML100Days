{
  "nbformat": 4,
  "nbformat_minor": 0,
  "metadata": {
    "kernelspec": {
      "name": "python3",
      "display_name": "Python 3"
    },
    "language_info": {
      "codemirror_mode": {
        "name": "ipython",
        "version": 3
      },
      "file_extension": ".py",
      "mimetype": "text/x-python",
      "name": "python",
      "nbconvert_exporter": "python",
      "pygments_lexer": "ipython3",
      "version": "3.6.5"
    },
    "colab": {
      "name": "Day078_HW.ipynb",
      "provenance": [],
      "collapsed_sections": []
    },
    "accelerator": "GPU"
  },
  "cells": [
    {
      "cell_type": "markdown",
      "metadata": {
        "id": "aju3qJ4xZkTF",
        "colab_type": "text"
      },
      "source": [
        "## Work\n",
        "1. 請嘗試將 preproc_x 替換成以每筆資料的 min/max 進行標準化至 -1 ~ 1 間，再進行訓練\n",
        "2. 請嘗試將 mlp 疊更深 (e.g 5~10 層)，進行訓練後觀察 learning curve 的走勢\n",
        "3. (optional) 請改用 GPU 進行訓練 (如果你有 GPU 的話)，比較使用 CPU 與 GPU 的訓練速度"
      ]
    },
    {
      "cell_type": "code",
      "metadata": {
        "id": "rHUIAF0TZkTG",
        "colab_type": "code",
        "colab": {
          "base_uri": "https://localhost:8080/",
          "height": 306
        },
        "outputId": "796c1a97-3da1-45f0-e5fe-8002e4f5b3e8"
      },
      "source": [
        "## \n",
        "\"\"\"\n",
        "Your code here (optional)\n",
        "確認硬體資源\n",
        "\"\"\"\n",
        "#on colab\n",
        "!nvidia-smi"
      ],
      "execution_count": 1,
      "outputs": [
        {
          "output_type": "stream",
          "text": [
            "Sun Sep 29 11:41:12 2019       \n",
            "+-----------------------------------------------------------------------------+\n",
            "| NVIDIA-SMI 430.40       Driver Version: 418.67       CUDA Version: 10.1     |\n",
            "|-------------------------------+----------------------+----------------------+\n",
            "| GPU  Name        Persistence-M| Bus-Id        Disp.A | Volatile Uncorr. ECC |\n",
            "| Fan  Temp  Perf  Pwr:Usage/Cap|         Memory-Usage | GPU-Util  Compute M. |\n",
            "|===============================+======================+======================|\n",
            "|   0  Tesla K80           Off  | 00000000:00:04.0 Off |                    0 |\n",
            "| N/A   35C    P8    28W / 149W |      0MiB / 11441MiB |      0%      Default |\n",
            "+-------------------------------+----------------------+----------------------+\n",
            "                                                                               \n",
            "+-----------------------------------------------------------------------------+\n",
            "| Processes:                                                       GPU Memory |\n",
            "|  GPU       PID   Type   Process name                             Usage      |\n",
            "|=============================================================================|\n",
            "|  No running processes found                                                 |\n",
            "+-----------------------------------------------------------------------------+\n"
          ],
          "name": "stdout"
        }
      ]
    },
    {
      "cell_type": "code",
      "metadata": {
        "id": "6ri02T1yZkTJ",
        "colab_type": "code",
        "colab": {}
      },
      "source": [
        "import os\n",
        "import keras\n",
        "from sklearn import preprocessing\n",
        "from keras import backend as K\n",
        "\n",
        "# 請嘗試設定 GPU：os.environ\n",
        "os.environ[\"CUDA_VISIBLE_DEVICES\"] = \"0\""
      ],
      "execution_count": 0,
      "outputs": []
    },
    {
      "cell_type": "code",
      "metadata": {
        "id": "ZmkqqbJEZkTM",
        "colab_type": "code",
        "colab": {}
      },
      "source": [
        "train, test = keras.datasets.cifar10.load_data()"
      ],
      "execution_count": 0,
      "outputs": []
    },
    {
      "cell_type": "code",
      "metadata": {
        "id": "62HtQNGJZkTO",
        "colab_type": "code",
        "colab": {}
      },
      "source": [
        "## 資料前處理\n",
        "\"\"\"\n",
        "Your code here\n",
        "\"\"\"\n",
        "def preproc_x(x, flatten=True):\n",
        "    x = x / 255\n",
        "    if flatten:\n",
        "      x = x.reshape((len(x), -1))\n",
        "    return x\n",
        "\n",
        "def preproc_y(y, num_classes = 10):\n",
        "    if y.shape[-1] == 1:\n",
        "        y = keras.utils.to_categorical(y, num_classes)\n",
        "    return y\n",
        "    "
      ],
      "execution_count": 0,
      "outputs": []
    },
    {
      "cell_type": "code",
      "metadata": {
        "id": "YS7shNjgZkTQ",
        "colab_type": "code",
        "colab": {}
      },
      "source": [
        "x_train, y_train = train\n",
        "x_test, y_test = test\n",
        "\n",
        "# Preproc the inputs\n",
        "x_train = preproc_x(x_train)\n",
        "x_test = preproc_x(x_test)\n",
        "\n",
        "# Preprc the outputs\n",
        "y_train = preproc_y(y_train)\n",
        "y_test = preproc_y(y_test)"
      ],
      "execution_count": 0,
      "outputs": []
    },
    {
      "cell_type": "code",
      "metadata": {
        "id": "sNy6lGqIZkTS",
        "colab_type": "code",
        "colab": {
          "base_uri": "https://localhost:8080/",
          "height": 493
        },
        "outputId": "cefb4ebc-5fbc-435d-a0b2-d1eee06a6fbf"
      },
      "source": [
        "\"\"\"Code Here\n",
        "建立你的神經網路\n",
        "\"\"\"\n",
        "def build_mlp(img_shape, output_dim = 10, neurons = [512, 256, 128, 64, 32, 16, 8]):\n",
        "    K.clear_session()\n",
        "    model = keras.models.Sequential()\n",
        "    for i, units in enumerate(neurons):\n",
        "      if i == 0:\n",
        "          model.add(keras.layers.Dense(units = units, activation = 'relu', name = \"hidden_layer\" + str(i), input_shape = img_shape))\n",
        "      else:\n",
        "          model.add(keras.layers.Dense(units = units, activation = 'relu', name = \"hidden_layer\" + str(i)))\n",
        "    model.add(keras.layers.Dense(units = output_dim, activation = 'softmax', name = \"output\"))\n",
        "    return model\n",
        "model = build_mlp(img_shape = x_train.shape[1:])              \n",
        "model.summary()"
      ],
      "execution_count": 35,
      "outputs": [
        {
          "output_type": "stream",
          "text": [
            "WARNING:tensorflow:From /usr/local/lib/python3.6/dist-packages/keras/backend/tensorflow_backend.py:107: The name tf.reset_default_graph is deprecated. Please use tf.compat.v1.reset_default_graph instead.\n",
            "\n",
            "WARNING:tensorflow:From /usr/local/lib/python3.6/dist-packages/keras/backend/tensorflow_backend.py:111: The name tf.placeholder_with_default is deprecated. Please use tf.compat.v1.placeholder_with_default instead.\n",
            "\n",
            "Model: \"sequential_1\"\n",
            "_________________________________________________________________\n",
            "Layer (type)                 Output Shape              Param #   \n",
            "=================================================================\n",
            "hidden_layer0 (Dense)        (None, 512)               1573376   \n",
            "_________________________________________________________________\n",
            "hidden_layer1 (Dense)        (None, 256)               131328    \n",
            "_________________________________________________________________\n",
            "hidden_layer2 (Dense)        (None, 128)               32896     \n",
            "_________________________________________________________________\n",
            "hidden_layer3 (Dense)        (None, 64)                8256      \n",
            "_________________________________________________________________\n",
            "hidden_layer4 (Dense)        (None, 32)                2080      \n",
            "_________________________________________________________________\n",
            "hidden_layer5 (Dense)        (None, 16)                528       \n",
            "_________________________________________________________________\n",
            "hidden_layer6 (Dense)        (None, 8)                 136       \n",
            "_________________________________________________________________\n",
            "output (Dense)               (None, 10)                90        \n",
            "=================================================================\n",
            "Total params: 1,748,690\n",
            "Trainable params: 1,748,690\n",
            "Non-trainable params: 0\n",
            "_________________________________________________________________\n"
          ],
          "name": "stdout"
        }
      ]
    },
    {
      "cell_type": "code",
      "metadata": {
        "id": "qDlX0Au1ZkTU",
        "colab_type": "code",
        "colab": {}
      },
      "source": [
        "## 超參數設定\n",
        "LEARNING_RATE = 0.001\n",
        "EPOCHS = 100\n",
        "BATCH_SIZE = 256"
      ],
      "execution_count": 0,
      "outputs": []
    },
    {
      "cell_type": "code",
      "metadata": {
        "id": "aM88cmyyZkTV",
        "colab_type": "code",
        "colab": {}
      },
      "source": [
        "optimizer = keras.optimizers.Adam(lr=LEARNING_RATE)\n",
        "model.compile(loss=\"categorical_crossentropy\", metrics=[\"accuracy\"], optimizer=optimizer)"
      ],
      "execution_count": 0,
      "outputs": []
    },
    {
      "cell_type": "code",
      "metadata": {
        "id": "cWXlbRtcZkTX",
        "colab_type": "code",
        "colab": {
          "base_uri": "https://localhost:8080/",
          "height": 1000
        },
        "outputId": "2196dc07-1ac7-4322-d16c-b42568db97a4"
      },
      "source": [
        "model.fit(x_train, y_train, \n",
        "          epochs=EPOCHS, \n",
        "          batch_size=BATCH_SIZE, \n",
        "          validation_data=(x_test, y_test), \n",
        "          shuffle=True)"
      ],
      "execution_count": 38,
      "outputs": [
        {
          "output_type": "stream",
          "text": [
            "WARNING:tensorflow:From /usr/local/lib/python3.6/dist-packages/tensorflow/python/ops/math_grad.py:1250: add_dispatch_support.<locals>.wrapper (from tensorflow.python.ops.array_ops) is deprecated and will be removed in a future version.\n",
            "Instructions for updating:\n",
            "Use tf.where in 2.0, which has the same broadcast rule as np.where\n",
            "Train on 50000 samples, validate on 10000 samples\n",
            "Epoch 1/100\n",
            "50000/50000 [==============================] - 8s 154us/step - loss: 2.3024 - acc: 0.1006 - val_loss: 2.2574 - val_acc: 0.1478\n",
            "Epoch 2/100\n",
            "50000/50000 [==============================] - 3s 55us/step - loss: 2.1494 - acc: 0.1820 - val_loss: 2.0588 - val_acc: 0.2030\n",
            "Epoch 3/100\n",
            "50000/50000 [==============================] - 3s 55us/step - loss: 1.9853 - acc: 0.2481 - val_loss: 1.9148 - val_acc: 0.2904\n",
            "Epoch 4/100\n",
            "50000/50000 [==============================] - 3s 55us/step - loss: 1.8684 - acc: 0.3096 - val_loss: 1.8384 - val_acc: 0.3356\n",
            "Epoch 5/100\n",
            "50000/50000 [==============================] - 3s 55us/step - loss: 1.7776 - acc: 0.3549 - val_loss: 1.7361 - val_acc: 0.3741\n",
            "Epoch 6/100\n",
            "50000/50000 [==============================] - 3s 55us/step - loss: 1.7013 - acc: 0.3876 - val_loss: 1.6688 - val_acc: 0.4035\n",
            "Epoch 7/100\n",
            "50000/50000 [==============================] - 3s 56us/step - loss: 1.6460 - acc: 0.4087 - val_loss: 1.6419 - val_acc: 0.4157\n",
            "Epoch 8/100\n",
            "50000/50000 [==============================] - 3s 55us/step - loss: 1.6108 - acc: 0.4237 - val_loss: 1.5988 - val_acc: 0.4214\n",
            "Epoch 9/100\n",
            "50000/50000 [==============================] - 3s 55us/step - loss: 1.5704 - acc: 0.4358 - val_loss: 1.6004 - val_acc: 0.4266\n",
            "Epoch 10/100\n",
            "50000/50000 [==============================] - 3s 56us/step - loss: 1.5362 - acc: 0.4503 - val_loss: 1.5384 - val_acc: 0.4468\n",
            "Epoch 11/100\n",
            "50000/50000 [==============================] - 3s 55us/step - loss: 1.5235 - acc: 0.4527 - val_loss: 1.5283 - val_acc: 0.4539\n",
            "Epoch 12/100\n",
            "50000/50000 [==============================] - 3s 55us/step - loss: 1.4865 - acc: 0.4646 - val_loss: 1.5119 - val_acc: 0.4657\n",
            "Epoch 13/100\n",
            "50000/50000 [==============================] - 3s 55us/step - loss: 1.4674 - acc: 0.4741 - val_loss: 1.5053 - val_acc: 0.4671\n",
            "Epoch 14/100\n",
            "50000/50000 [==============================] - 3s 56us/step - loss: 1.4438 - acc: 0.4839 - val_loss: 1.4993 - val_acc: 0.4694\n",
            "Epoch 15/100\n",
            "50000/50000 [==============================] - 3s 55us/step - loss: 1.4215 - acc: 0.4899 - val_loss: 1.5092 - val_acc: 0.4615\n",
            "Epoch 16/100\n",
            "50000/50000 [==============================] - 3s 55us/step - loss: 1.4032 - acc: 0.4959 - val_loss: 1.4899 - val_acc: 0.4710\n",
            "Epoch 17/100\n",
            "50000/50000 [==============================] - 3s 55us/step - loss: 1.3815 - acc: 0.5054 - val_loss: 1.4617 - val_acc: 0.4821\n",
            "Epoch 18/100\n",
            "50000/50000 [==============================] - 3s 55us/step - loss: 1.3654 - acc: 0.5108 - val_loss: 1.4954 - val_acc: 0.4763\n",
            "Epoch 19/100\n",
            "50000/50000 [==============================] - 3s 55us/step - loss: 1.3493 - acc: 0.5187 - val_loss: 1.4945 - val_acc: 0.4755\n",
            "Epoch 20/100\n",
            "50000/50000 [==============================] - 3s 55us/step - loss: 1.3264 - acc: 0.5261 - val_loss: 1.4820 - val_acc: 0.4895\n",
            "Epoch 21/100\n",
            "50000/50000 [==============================] - 3s 55us/step - loss: 1.3071 - acc: 0.5316 - val_loss: 1.4766 - val_acc: 0.4878\n",
            "Epoch 22/100\n",
            "50000/50000 [==============================] - 3s 55us/step - loss: 1.2963 - acc: 0.5359 - val_loss: 1.4968 - val_acc: 0.4756\n",
            "Epoch 23/100\n",
            "50000/50000 [==============================] - 3s 55us/step - loss: 1.2684 - acc: 0.5444 - val_loss: 1.4520 - val_acc: 0.4955\n",
            "Epoch 24/100\n",
            "50000/50000 [==============================] - 3s 55us/step - loss: 1.2508 - acc: 0.5508 - val_loss: 1.4677 - val_acc: 0.4884\n",
            "Epoch 25/100\n",
            "50000/50000 [==============================] - 3s 56us/step - loss: 1.2287 - acc: 0.5596 - val_loss: 1.4543 - val_acc: 0.4981\n",
            "Epoch 26/100\n",
            "50000/50000 [==============================] - 3s 56us/step - loss: 1.2223 - acc: 0.5608 - val_loss: 1.4935 - val_acc: 0.4929\n",
            "Epoch 27/100\n",
            "50000/50000 [==============================] - 3s 56us/step - loss: 1.2032 - acc: 0.5679 - val_loss: 1.5007 - val_acc: 0.4903\n",
            "Epoch 28/100\n",
            "50000/50000 [==============================] - 3s 56us/step - loss: 1.1875 - acc: 0.5729 - val_loss: 1.4747 - val_acc: 0.4996\n",
            "Epoch 29/100\n",
            "50000/50000 [==============================] - 3s 56us/step - loss: 1.1656 - acc: 0.5805 - val_loss: 1.5237 - val_acc: 0.4939\n",
            "Epoch 30/100\n",
            "50000/50000 [==============================] - 3s 56us/step - loss: 1.1574 - acc: 0.5812 - val_loss: 1.4947 - val_acc: 0.4964\n",
            "Epoch 31/100\n",
            "50000/50000 [==============================] - 3s 56us/step - loss: 1.1432 - acc: 0.5892 - val_loss: 1.5421 - val_acc: 0.4844\n",
            "Epoch 32/100\n",
            "50000/50000 [==============================] - 3s 56us/step - loss: 1.1273 - acc: 0.5914 - val_loss: 1.5198 - val_acc: 0.4987\n",
            "Epoch 33/100\n",
            "50000/50000 [==============================] - 3s 56us/step - loss: 1.1116 - acc: 0.5989 - val_loss: 1.5159 - val_acc: 0.5000\n",
            "Epoch 34/100\n",
            "50000/50000 [==============================] - 3s 56us/step - loss: 1.0913 - acc: 0.6051 - val_loss: 1.5290 - val_acc: 0.4936\n",
            "Epoch 35/100\n",
            "50000/50000 [==============================] - 3s 56us/step - loss: 1.0714 - acc: 0.6128 - val_loss: 1.5176 - val_acc: 0.5096\n",
            "Epoch 36/100\n",
            "50000/50000 [==============================] - 3s 55us/step - loss: 1.0595 - acc: 0.6178 - val_loss: 1.5549 - val_acc: 0.5023\n",
            "Epoch 37/100\n",
            "50000/50000 [==============================] - 3s 56us/step - loss: 1.0392 - acc: 0.6243 - val_loss: 1.5407 - val_acc: 0.4980\n",
            "Epoch 38/100\n",
            "50000/50000 [==============================] - 3s 56us/step - loss: 1.0336 - acc: 0.6261 - val_loss: 1.5777 - val_acc: 0.4942\n",
            "Epoch 39/100\n",
            "50000/50000 [==============================] - 3s 56us/step - loss: 1.0155 - acc: 0.6311 - val_loss: 1.5912 - val_acc: 0.4986\n",
            "Epoch 40/100\n",
            "50000/50000 [==============================] - 3s 55us/step - loss: 1.0079 - acc: 0.6339 - val_loss: 1.5769 - val_acc: 0.5016\n",
            "Epoch 41/100\n",
            "50000/50000 [==============================] - 3s 56us/step - loss: 0.9970 - acc: 0.6397 - val_loss: 1.6167 - val_acc: 0.4919\n",
            "Epoch 42/100\n",
            "50000/50000 [==============================] - 3s 56us/step - loss: 0.9686 - acc: 0.6493 - val_loss: 1.6505 - val_acc: 0.4993\n",
            "Epoch 43/100\n",
            "50000/50000 [==============================] - 3s 56us/step - loss: 0.9555 - acc: 0.6550 - val_loss: 1.6778 - val_acc: 0.4992\n",
            "Epoch 44/100\n",
            "50000/50000 [==============================] - 3s 56us/step - loss: 0.9501 - acc: 0.6552 - val_loss: 1.6913 - val_acc: 0.4911\n",
            "Epoch 45/100\n",
            "50000/50000 [==============================] - 3s 56us/step - loss: 0.9348 - acc: 0.6631 - val_loss: 1.6715 - val_acc: 0.4937\n",
            "Epoch 46/100\n",
            "50000/50000 [==============================] - 3s 56us/step - loss: 0.9247 - acc: 0.6644 - val_loss: 1.6905 - val_acc: 0.5029\n",
            "Epoch 47/100\n",
            "50000/50000 [==============================] - 3s 56us/step - loss: 0.9138 - acc: 0.6682 - val_loss: 1.7212 - val_acc: 0.4930\n",
            "Epoch 48/100\n",
            "50000/50000 [==============================] - 3s 56us/step - loss: 0.9036 - acc: 0.6737 - val_loss: 1.7191 - val_acc: 0.4920\n",
            "Epoch 49/100\n",
            "50000/50000 [==============================] - 3s 56us/step - loss: 0.8826 - acc: 0.6799 - val_loss: 1.7648 - val_acc: 0.4855\n",
            "Epoch 50/100\n",
            "50000/50000 [==============================] - 3s 56us/step - loss: 0.8761 - acc: 0.6850 - val_loss: 1.7902 - val_acc: 0.4880\n",
            "Epoch 51/100\n",
            "50000/50000 [==============================] - 3s 56us/step - loss: 0.8464 - acc: 0.6922 - val_loss: 1.7566 - val_acc: 0.4945\n",
            "Epoch 52/100\n",
            "50000/50000 [==============================] - 3s 56us/step - loss: 0.8437 - acc: 0.6929 - val_loss: 1.8024 - val_acc: 0.4967\n",
            "Epoch 53/100\n",
            "50000/50000 [==============================] - 3s 56us/step - loss: 0.8291 - acc: 0.7006 - val_loss: 1.8551 - val_acc: 0.4883\n",
            "Epoch 54/100\n",
            "50000/50000 [==============================] - 3s 56us/step - loss: 0.8260 - acc: 0.7016 - val_loss: 1.8648 - val_acc: 0.4898\n",
            "Epoch 55/100\n",
            "50000/50000 [==============================] - 3s 56us/step - loss: 0.8159 - acc: 0.7042 - val_loss: 1.8437 - val_acc: 0.4908\n",
            "Epoch 56/100\n",
            "50000/50000 [==============================] - 3s 57us/step - loss: 0.7958 - acc: 0.7114 - val_loss: 1.8726 - val_acc: 0.4929\n",
            "Epoch 57/100\n",
            "50000/50000 [==============================] - 3s 57us/step - loss: 0.7997 - acc: 0.7093 - val_loss: 1.8963 - val_acc: 0.4921\n",
            "Epoch 58/100\n",
            "50000/50000 [==============================] - 3s 56us/step - loss: 0.7840 - acc: 0.7161 - val_loss: 1.8690 - val_acc: 0.4920\n",
            "Epoch 59/100\n",
            "50000/50000 [==============================] - 3s 56us/step - loss: 0.7619 - acc: 0.7253 - val_loss: 1.9813 - val_acc: 0.4934\n",
            "Epoch 60/100\n",
            "50000/50000 [==============================] - 3s 56us/step - loss: 0.7623 - acc: 0.7218 - val_loss: 1.9838 - val_acc: 0.4869\n",
            "Epoch 61/100\n",
            "50000/50000 [==============================] - 3s 56us/step - loss: 0.7552 - acc: 0.7270 - val_loss: 1.9345 - val_acc: 0.4925\n",
            "Epoch 62/100\n",
            "50000/50000 [==============================] - 3s 56us/step - loss: 0.7553 - acc: 0.7286 - val_loss: 1.9674 - val_acc: 0.4902\n",
            "Epoch 63/100\n",
            "50000/50000 [==============================] - 3s 56us/step - loss: 0.7248 - acc: 0.7358 - val_loss: 1.9805 - val_acc: 0.4918\n",
            "Epoch 64/100\n",
            "50000/50000 [==============================] - 3s 56us/step - loss: 0.7123 - acc: 0.7431 - val_loss: 2.0207 - val_acc: 0.4923\n",
            "Epoch 65/100\n",
            "50000/50000 [==============================] - 3s 56us/step - loss: 0.7258 - acc: 0.7378 - val_loss: 2.0122 - val_acc: 0.4868\n",
            "Epoch 66/100\n",
            "50000/50000 [==============================] - 3s 56us/step - loss: 0.7129 - acc: 0.7422 - val_loss: 2.0000 - val_acc: 0.4869\n",
            "Epoch 67/100\n",
            "50000/50000 [==============================] - 3s 57us/step - loss: 0.6968 - acc: 0.7477 - val_loss: 2.1326 - val_acc: 0.4832\n",
            "Epoch 68/100\n",
            "50000/50000 [==============================] - 3s 56us/step - loss: 0.6945 - acc: 0.7494 - val_loss: 2.1269 - val_acc: 0.4845\n",
            "Epoch 69/100\n",
            "50000/50000 [==============================] - 3s 56us/step - loss: 0.6864 - acc: 0.7507 - val_loss: 2.1509 - val_acc: 0.4836\n",
            "Epoch 70/100\n",
            "50000/50000 [==============================] - 3s 56us/step - loss: 0.6881 - acc: 0.7509 - val_loss: 2.1074 - val_acc: 0.4891\n",
            "Epoch 71/100\n",
            "50000/50000 [==============================] - 3s 56us/step - loss: 0.6596 - acc: 0.7620 - val_loss: 2.1520 - val_acc: 0.4885\n",
            "Epoch 72/100\n",
            "50000/50000 [==============================] - 3s 56us/step - loss: 0.6791 - acc: 0.7556 - val_loss: 2.1622 - val_acc: 0.4862\n",
            "Epoch 73/100\n",
            "50000/50000 [==============================] - 3s 56us/step - loss: 0.6619 - acc: 0.7594 - val_loss: 2.1466 - val_acc: 0.4883\n",
            "Epoch 74/100\n",
            "50000/50000 [==============================] - 3s 57us/step - loss: 0.6457 - acc: 0.7666 - val_loss: 2.2470 - val_acc: 0.4872\n",
            "Epoch 75/100\n",
            "50000/50000 [==============================] - 3s 56us/step - loss: 0.6285 - acc: 0.7724 - val_loss: 2.2633 - val_acc: 0.4836\n",
            "Epoch 76/100\n",
            "50000/50000 [==============================] - 3s 55us/step - loss: 0.6420 - acc: 0.7686 - val_loss: 2.2681 - val_acc: 0.4850\n",
            "Epoch 77/100\n",
            "50000/50000 [==============================] - 3s 56us/step - loss: 0.6355 - acc: 0.7690 - val_loss: 2.2505 - val_acc: 0.4886\n",
            "Epoch 78/100\n",
            "50000/50000 [==============================] - 3s 56us/step - loss: 0.6277 - acc: 0.7738 - val_loss: 2.2048 - val_acc: 0.4862\n",
            "Epoch 79/100\n",
            "50000/50000 [==============================] - 3s 57us/step - loss: 0.6117 - acc: 0.7773 - val_loss: 2.3707 - val_acc: 0.4808\n",
            "Epoch 80/100\n",
            "50000/50000 [==============================] - 3s 58us/step - loss: 0.6028 - acc: 0.7797 - val_loss: 2.2967 - val_acc: 0.4890\n",
            "Epoch 81/100\n",
            "50000/50000 [==============================] - 3s 57us/step - loss: 0.6165 - acc: 0.7764 - val_loss: 2.2816 - val_acc: 0.4934\n",
            "Epoch 82/100\n",
            "50000/50000 [==============================] - 3s 57us/step - loss: 0.5858 - acc: 0.7869 - val_loss: 2.4163 - val_acc: 0.4834\n",
            "Epoch 83/100\n",
            "50000/50000 [==============================] - 3s 56us/step - loss: 0.5867 - acc: 0.7883 - val_loss: 2.4334 - val_acc: 0.4824\n",
            "Epoch 84/100\n",
            "50000/50000 [==============================] - 3s 56us/step - loss: 0.5920 - acc: 0.7860 - val_loss: 2.4012 - val_acc: 0.4859\n",
            "Epoch 85/100\n",
            "50000/50000 [==============================] - 3s 56us/step - loss: 0.5862 - acc: 0.7889 - val_loss: 2.4471 - val_acc: 0.4847\n",
            "Epoch 86/100\n",
            "50000/50000 [==============================] - 3s 56us/step - loss: 0.5810 - acc: 0.7921 - val_loss: 2.3928 - val_acc: 0.4849\n",
            "Epoch 87/100\n",
            "50000/50000 [==============================] - 3s 56us/step - loss: 0.5590 - acc: 0.7976 - val_loss: 2.4304 - val_acc: 0.4842\n",
            "Epoch 88/100\n",
            "50000/50000 [==============================] - 3s 56us/step - loss: 0.5563 - acc: 0.7984 - val_loss: 2.5016 - val_acc: 0.4882\n",
            "Epoch 89/100\n",
            "50000/50000 [==============================] - 3s 56us/step - loss: 0.5402 - acc: 0.8044 - val_loss: 2.5062 - val_acc: 0.4847\n",
            "Epoch 90/100\n",
            "50000/50000 [==============================] - 3s 56us/step - loss: 0.5478 - acc: 0.8013 - val_loss: 2.5570 - val_acc: 0.4819\n",
            "Epoch 91/100\n",
            "50000/50000 [==============================] - 3s 56us/step - loss: 0.5562 - acc: 0.7976 - val_loss: 2.4799 - val_acc: 0.4798\n",
            "Epoch 92/100\n",
            "50000/50000 [==============================] - 3s 55us/step - loss: 0.5588 - acc: 0.7991 - val_loss: 2.5395 - val_acc: 0.4800\n",
            "Epoch 93/100\n",
            "50000/50000 [==============================] - 3s 56us/step - loss: 0.5396 - acc: 0.8059 - val_loss: 2.5125 - val_acc: 0.4736\n",
            "Epoch 94/100\n",
            "50000/50000 [==============================] - 3s 55us/step - loss: 0.5427 - acc: 0.8039 - val_loss: 2.5439 - val_acc: 0.4702\n",
            "Epoch 95/100\n",
            "50000/50000 [==============================] - 3s 56us/step - loss: 0.5187 - acc: 0.8124 - val_loss: 2.5832 - val_acc: 0.4767\n",
            "Epoch 96/100\n",
            "50000/50000 [==============================] - 3s 55us/step - loss: 0.5080 - acc: 0.8149 - val_loss: 2.6130 - val_acc: 0.4783\n",
            "Epoch 97/100\n",
            "50000/50000 [==============================] - 3s 56us/step - loss: 0.5442 - acc: 0.8051 - val_loss: 2.5186 - val_acc: 0.4853\n",
            "Epoch 98/100\n",
            "50000/50000 [==============================] - 3s 55us/step - loss: 0.4953 - acc: 0.8210 - val_loss: 2.5933 - val_acc: 0.4757\n",
            "Epoch 99/100\n",
            "50000/50000 [==============================] - 3s 56us/step - loss: 0.5180 - acc: 0.8139 - val_loss: 2.6490 - val_acc: 0.4810\n",
            "Epoch 100/100\n",
            "50000/50000 [==============================] - 3s 56us/step - loss: 0.4912 - acc: 0.8222 - val_loss: 2.6261 - val_acc: 0.4791\n"
          ],
          "name": "stdout"
        },
        {
          "output_type": "execute_result",
          "data": {
            "text/plain": [
              "<keras.callbacks.History at 0x7f4ab0b81cc0>"
            ]
          },
          "metadata": {
            "tags": []
          },
          "execution_count": 38
        }
      ]
    },
    {
      "cell_type": "code",
      "metadata": {
        "id": "COC432QtZkTZ",
        "colab_type": "code",
        "colab": {
          "base_uri": "https://localhost:8080/",
          "height": 545
        },
        "outputId": "bb4b3383-d39c-44b8-8696-63fa8cd98ac0"
      },
      "source": [
        "import matplotlib.pyplot as plt\n",
        "\n",
        "\n",
        "train_loss = model.history.history[\"loss\"]\n",
        "valid_loss = model.history.history[\"val_loss\"]\n",
        "\n",
        "train_acc = model.history.history[\"acc\"]\n",
        "valid_acc = model.history.history[\"val_acc\"]\n",
        "\n",
        "plt.plot(range(len(train_loss)), train_loss, label=\"train loss\")\n",
        "plt.plot(range(len(valid_loss)), valid_loss, label=\"valid loss\")\n",
        "plt.legend()\n",
        "plt.title(\"Loss\")\n",
        "plt.show()\n",
        "\n",
        "plt.plot(range(len(train_acc)), train_acc, label=\"train accuracy\")\n",
        "plt.plot(range(len(valid_acc)), valid_acc, label=\"valid accuracy\")\n",
        "plt.legend()\n",
        "plt.title(\"Accuracy\")\n",
        "plt.show()"
      ],
      "execution_count": 39,
      "outputs": [
        {
          "output_type": "display_data",
          "data": {
            "image/png": "[encoded data removed]",
            "text/plain": [
              "<Figure size 432x288 with 1 Axes>"
            ]
          },
          "metadata": {
            "tags": []
          }
        },
        {
          "output_type": "display_data",
          "data": {
            "image/png": "[encoded data removed]",
            "text/plain": [
              "<Figure size 432x288 with 1 Axes>"
            ]
          },
          "metadata": {
            "tags": []
          }
        }
      ]
    }
  ]
}