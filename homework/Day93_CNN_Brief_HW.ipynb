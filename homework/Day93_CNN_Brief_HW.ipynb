{
  "nbformat": 4,
  "nbformat_minor": 0,
  "metadata": {
    "kernelspec": {
      "name": "python3",
      "display_name": "Python 3"
    },
    "language_info": {
      "codemirror_mode": {
        "name": "ipython",
        "version": 3
      },
      "file_extension": ".py",
      "mimetype": "text/x-python",
      "name": "python",
      "nbconvert_exporter": "python",
      "pygments_lexer": "ipython3",
      "version": "3.6.8"
    },
    "colab": {
      "name": "Day93-CNN_Brief_HW.ipynb",
      "version": "0.3.2",
      "provenance": []
    },
    "accelerator": "GPU"
  },
  "cells": [
    {
      "cell_type": "markdown",
      "metadata": {
        "id": "v3OpFveYPtts",
        "colab_type": "text"
      },
      "source": [
        "# 作業目標:\n",
        "    運用 Keras 模組建構CNN, 了解 CNN 的架構\n",
        "    \n",
        "    "
      ]
    },
    {
      "cell_type": "markdown",
      "metadata": {
        "id": "2OOmzhlSPttt",
        "colab_type": "text"
      },
      "source": [
        "# 作業重點\n",
        "(1)嘗試比對 Dense 與 layers.Conv2D 架構NN 的差異\n",
        "\n",
        "(2) 有沒有Pooling layer, 對於參數量的差異\n",
        "\n",
        "注意: input_shape 請勿修改"
      ]
    },
    {
      "cell_type": "code",
      "metadata": {
        "id": "-Q8fPjLwPttu",
        "colab_type": "code",
        "colab": {
          "base_uri": "https://localhost:8080/",
          "height": 51
        },
        "outputId": "f9465696-eb1d-4a97-dd4b-d946c3ab849f"
      },
      "source": [
        "#導入相關模組\n",
        "import keras\n",
        "from keras import layers\n",
        "from keras import models\n",
        "from keras.models import Sequential\n",
        "from keras.layers import Conv2D, Activation, MaxPooling2D, Flatten, Dense\n",
        "\n",
        "#確認keras 版本\n",
        "print(keras.__version__)"
      ],
      "execution_count": 1,
      "outputs": [
        {
          "output_type": "stream",
          "text": [
            "Using TensorFlow backend.\n"
          ],
          "name": "stderr"
        },
        {
          "output_type": "stream",
          "text": [
            "2.2.4\n"
          ],
          "name": "stdout"
        }
      ]
    },
    {
      "cell_type": "code",
      "metadata": {
        "id": "CoFlIbvwPtty",
        "colab_type": "code",
        "colab": {}
      },
      "source": [
        "'''\n",
        "model = Sequential([\n",
        "    Dense(xxx),\n",
        "    Activation(xxx),\n",
        "    Dense(xxx),\n",
        "    Activation(xxx),\n",
        "])\n",
        "'''\n",
        "#model.summary()"
      ],
      "execution_count": 0,
      "outputs": []
    },
    {
      "cell_type": "code",
      "metadata": {
        "id": "cnSRobh9TGNo",
        "colab_type": "code",
        "colab": {
          "base_uri": "https://localhost:8080/",
          "height": 411
        },
        "outputId": "8a2e5fed-31c5-4851-b5c9-046ec9d6d4e4"
      },
      "source": [
        "\n",
        "model = Sequential([\n",
        "    Dense(units=64, input_shape = (28, 28, 1) ),\n",
        "    Activation('relu'),\n",
        "    Dense(units=32),\n",
        "    Activation('softmax'),\n",
        "])\n",
        "\n",
        "model.summary()"
      ],
      "execution_count": 2,
      "outputs": [
        {
          "output_type": "stream",
          "text": [
            "WARNING: Logging before flag parsing goes to stderr.\n",
            "W0731 14:04:24.967460 140195501893504 deprecation_wrapper.py:119] From /usr/local/lib/python3.6/dist-packages/keras/backend/tensorflow_backend.py:74: The name tf.get_default_graph is deprecated. Please use tf.compat.v1.get_default_graph instead.\n",
            "\n",
            "W0731 14:04:25.008064 140195501893504 deprecation_wrapper.py:119] From /usr/local/lib/python3.6/dist-packages/keras/backend/tensorflow_backend.py:517: The name tf.placeholder is deprecated. Please use tf.compat.v1.placeholder instead.\n",
            "\n",
            "W0731 14:04:25.014247 140195501893504 deprecation_wrapper.py:119] From /usr/local/lib/python3.6/dist-packages/keras/backend/tensorflow_backend.py:4138: The name tf.random_uniform is deprecated. Please use tf.random.uniform instead.\n",
            "\n"
          ],
          "name": "stderr"
        },
        {
          "output_type": "stream",
          "text": [
            "_________________________________________________________________\n",
            "Layer (type)                 Output Shape              Param #   \n",
            "=================================================================\n",
            "dense_1 (Dense)              (None, 28, 28, 64)        128       \n",
            "_________________________________________________________________\n",
            "activation_1 (Activation)    (None, 28, 28, 64)        0         \n",
            "_________________________________________________________________\n",
            "dense_2 (Dense)              (None, 28, 28, 32)        2080      \n",
            "_________________________________________________________________\n",
            "activation_2 (Activation)    (None, 28, 28, 32)        0         \n",
            "=================================================================\n",
            "Total params: 2,208\n",
            "Trainable params: 2,208\n",
            "Non-trainable params: 0\n",
            "_________________________________________________________________\n"
          ],
          "name": "stdout"
        }
      ]
    },
    {
      "cell_type": "markdown",
      "metadata": {
        "id": "IQAf7P0VPtt0",
        "colab_type": "text"
      },
      "source": [
        "# layers.Conv2D 模型, 用作比對\n",
        "\n",
        "![CNN_Model.png](attachment:CNN_Model.png)\n",
        "\n"
      ]
    },
    {
      "cell_type": "code",
      "metadata": {
        "id": "UDk7nGwtPtt1",
        "colab_type": "code",
        "colab": {}
      },
      "source": [
        "'''\n",
        "#建立一個序列模型\n",
        "model = models.Sequential()\n",
        "#建立兩個卷績層, 32 個內核, 內核大小 3x3, \n",
        "#輸入影像大小 28x28x1\n",
        "\n",
        "#建立一個全連接層\n",
        "model.add(Dense(units=100))\n",
        "model.add(Activation('relu'))\n",
        "\n",
        "#建立一個輸出層, 並採用softmax\n",
        "model.add(Dense(units=10))\n",
        "model.add(Activation('softmax'))\n",
        "'''\n",
        "#model.summary()"
      ],
      "execution_count": 0,
      "outputs": []
    },
    {
      "cell_type": "code",
      "metadata": {
        "id": "XNcrW-w8TVIt",
        "colab_type": "code",
        "colab": {
          "base_uri": "https://localhost:8080/",
          "height": 340
        },
        "outputId": "47fe549a-3f9c-4830-e5c4-28294614ae4b"
      },
      "source": [
        "model = models.Sequential()\n",
        "model.add(Conv2D(32, (3,3), input_shape = (28, 28, 1)))\n",
        "model.add(Conv2D(32, (3,3)))\n",
        "model.add(Dense(units=100))\n",
        "model.add(Activation('relu'))\n",
        "model.add(Dense(units=10))\n",
        "model.add(Activation('softmax'))\n",
        "model.summary()"
      ],
      "execution_count": 3,
      "outputs": [
        {
          "output_type": "stream",
          "text": [
            "_________________________________________________________________\n",
            "Layer (type)                 Output Shape              Param #   \n",
            "=================================================================\n",
            "conv2d_1 (Conv2D)            (None, 26, 26, 32)        320       \n",
            "_________________________________________________________________\n",
            "conv2d_2 (Conv2D)            (None, 24, 24, 32)        9248      \n",
            "_________________________________________________________________\n",
            "dense_3 (Dense)              (None, 24, 24, 100)       3300      \n",
            "_________________________________________________________________\n",
            "activation_3 (Activation)    (None, 24, 24, 100)       0         \n",
            "_________________________________________________________________\n",
            "dense_4 (Dense)              (None, 24, 24, 10)        1010      \n",
            "_________________________________________________________________\n",
            "activation_4 (Activation)    (None, 24, 24, 10)        0         \n",
            "=================================================================\n",
            "Total params: 13,878\n",
            "Trainable params: 13,878\n",
            "Non-trainable params: 0\n",
            "_________________________________________________________________\n"
          ],
          "name": "stdout"
        }
      ]
    },
    {
      "cell_type": "code",
      "metadata": {
        "id": "hSs3nKG3VuTv",
        "colab_type": "code",
        "colab": {
          "base_uri": "https://localhost:8080/",
          "height": 408
        },
        "outputId": "d9ce3d20-d273-418a-a8f1-289538582639"
      },
      "source": [
        "model = models.Sequential()\n",
        "model.add(Conv2D(32, (3,3), input_shape = (28, 28, 1)))\n",
        "model.add(Conv2D(32, (3,3)))\n",
        "model.add(MaxPooling2D(3,3))\n",
        "model.add(Dense(units=100))\n",
        "model.add(Activation('relu'))\n",
        "model.add(Dense(units=10))\n",
        "model.add(Activation('softmax'))\n",
        "model.summary()"
      ],
      "execution_count": 4,
      "outputs": [
        {
          "output_type": "stream",
          "text": [
            "W0731 14:04:25.200666 140195501893504 deprecation_wrapper.py:119] From /usr/local/lib/python3.6/dist-packages/keras/backend/tensorflow_backend.py:3976: The name tf.nn.max_pool is deprecated. Please use tf.nn.max_pool2d instead.\n",
            "\n"
          ],
          "name": "stderr"
        },
        {
          "output_type": "stream",
          "text": [
            "_________________________________________________________________\n",
            "Layer (type)                 Output Shape              Param #   \n",
            "=================================================================\n",
            "conv2d_3 (Conv2D)            (None, 26, 26, 32)        320       \n",
            "_________________________________________________________________\n",
            "conv2d_4 (Conv2D)            (None, 24, 24, 32)        9248      \n",
            "_________________________________________________________________\n",
            "max_pooling2d_1 (MaxPooling2 (None, 8, 8, 32)          0         \n",
            "_________________________________________________________________\n",
            "dense_5 (Dense)              (None, 8, 8, 100)         3300      \n",
            "_________________________________________________________________\n",
            "activation_5 (Activation)    (None, 8, 8, 100)         0         \n",
            "_________________________________________________________________\n",
            "dense_6 (Dense)              (None, 8, 8, 10)          1010      \n",
            "_________________________________________________________________\n",
            "activation_6 (Activation)    (None, 8, 8, 10)          0         \n",
            "=================================================================\n",
            "Total params: 13,878\n",
            "Trainable params: 13,878\n",
            "Non-trainable params: 0\n",
            "_________________________________________________________________\n"
          ],
          "name": "stdout"
        }
      ]
    }
  ]
}