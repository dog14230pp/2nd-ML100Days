{
 "cells": [
  {
   "cell_type": "markdown",
   "metadata": {},
   "source": [
    "## 練習時間\n",
    "相信大家對回歸問題及分類問題都有初步的了解。今天的作業希望大家搜尋有關 multi-label 的案例問題。下圖是電影 \"奇異博士\" 的分類。可以看到同時有 \"Action\", \"Adventure\", \"Fantasy\" 的類別存在，代表這是個多標籤的問題。 "
   ]
  },
  {
   "cell_type": "markdown",
   "metadata": {},
   "source": [
    "![image](https://cdn-images-1.medium.com/max/1000/1*r0gYXMSQf5VhdMyl2bRDyg.png)"
   ]
  },
  {
   "cell_type": "markdown",
   "metadata": {},
   "source": [
    "## 請搜尋目標為多標籤問題 (Multi-label) 的機器學習案例，了解其資料來源、目標以及評估指標為何\n",
    "## Hint: 服飾"
   ]
  },
  {
   "cell_type": "markdown",
   "metadata": {},
   "source": [
    "# 多標籤問題:\n",
    "https://www.kaggle.com/c/leaf-classification/overview/evaluation\n",
    "kaggle競賽-樹葉分類\n",
    "\n",
    "## 資料來源: \n",
    "UCI machine learning repository \n",
    "\n",
    "## 目標:\n",
    "There are estimated to be nearly half a million species of plant in the world. Classification of species has been historically problematic and often results in duplicate identifications. \n",
    ".....to accurately identify 99 species of plants. \n",
    "也就是解決多年來一直想要解決的物種自動分類系統...\n",
    "本競賽希望可以正確的分辨99種物種...\n",
    "\n",
    "## 評估指標:\n",
    "Using multi-class logarithmic loss. (LogLoss) \n",
    "Each image has been labeled with one true species. For each image, you must submit a set of predicted probabilities (one for every species). \n",
    "(每個圖片都要輸出對於每種物種其預測之機率為何 再做評估)"
   ]
  },
  {
   "cell_type": "code",
   "execution_count": null,
   "metadata": {},
   "outputs": [],
   "source": []
  }
 ],
 "metadata": {
  "kernelspec": {
   "display_name": "Python 3",
   "language": "python",
   "name": "python3"
  },
  "language_info": {
   "codemirror_mode": {
    "name": "ipython",
    "version": 3
   },
   "file_extension": ".py",
   "mimetype": "text/x-python",
   "name": "python",
   "nbconvert_exporter": "python",
   "pygments_lexer": "ipython3",
   "version": "3.7.3"
  }
 },
 "nbformat": 4,
 "nbformat_minor": 2
}
