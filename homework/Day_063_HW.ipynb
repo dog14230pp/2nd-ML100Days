{
  "nbformat": 4,
  "nbformat_minor": 0,
  "metadata": {
    "kernelspec": {
      "display_name": "Python 3",
      "language": "python",
      "name": "python3"
    },
    "language_info": {
      "codemirror_mode": {
        "name": "ipython",
        "version": 3
      },
      "file_extension": ".py",
      "mimetype": "text/x-python",
      "name": "python",
      "nbconvert_exporter": "python",
      "pygments_lexer": "ipython3",
      "version": "3.6.1"
    },
    "colab": {
      "name": "Day_063_HW.ipynb",
      "provenance": [],
      "collapsed_sections": []
    }
  },
  "cells": [
    {
      "cell_type": "markdown",
      "metadata": {
        "id": "9lr688rNf_N-",
        "colab_type": "text"
      },
      "source": [
        "# 作業\n",
        "* 在精簡深度學習的方式上 : 卷積類神經 (CNN) 採用像素遠近，而遞歸類神經 (RNN) 採用著則是時間遠近\n",
        "* 那麼，既然有著類似的設計精神，兩者是否有可能互換應用呢?"
      ]
    },
    {
      "cell_type": "markdown",
      "metadata": {
        "id": "d9TdAzWoikew",
        "colab_type": "text"
      },
      "source": [
        "RNN有時可以被CNN所取代\n",
        "\n",
        "https://mp.weixin.qq.com/s/f0sv7c-H5o5L_wy2sUonUQ?fbclid=IwAR3VlomkZr1pNOCtHO2jjOaPc8QJKIgeF_Ti50wTv2gnpweFr43ZWeqU3G8"
      ]
    }
  ]
}